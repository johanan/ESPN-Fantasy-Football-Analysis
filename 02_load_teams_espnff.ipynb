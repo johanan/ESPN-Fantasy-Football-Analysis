{
 "cells": [
  {
   "cell_type": "markdown",
   "metadata": {},
   "source": [
    "# Load the Teams\n",
    "We are now going to load every team over every year that the league has existed.\n",
    "\n",
    "This will create `teams.csv`."
   ]
  },
  {
   "cell_type": "code",
   "execution_count": 7,
   "metadata": {},
   "outputs": [],
   "source": [
    "import os\n",
    "import requests\n",
    "import pandas as pd\n",
    "\n",
    "from dotenv import load_dotenv\n",
    "\n",
    "load_dotenv()\n",
    "league_id = os.getenv('league_id')\n",
    "current_year = os.getenv('current_year')\n",
    "url = \"https://fantasy.espn.com/apis/v3/games/ffl/seasons/{}/segments/0/leagues/{}\".format(current_year, league_id)\n",
    "history_url = \"https://fantasy.espn.com/apis/v3/games/ffl/leagueHistory/{}\".format(league_id)\n",
    "cookies = {\n",
    "        \"swid\": os.getenv('swid'),\n",
    "        \"espn_s2\": os.getenv('espn_s2')\n",
    "    }"
   ]
  },
  {
   "cell_type": "code",
   "execution_count": 8,
   "metadata": {},
   "outputs": [],
   "source": [
    "def get_data(args):\n",
    "    season_id, load_url = args\n",
    "    team_req = requests.get(load_url,\n",
    "        cookies=cookies,\n",
    "        params={\"seasonId\": season_id, \"view\": \"mTeam\"})\n",
    "    teams = team_req.json()[0][\"teams\"]\n",
    "    teams_df = pd.DataFrame(json_normalize(teams))\n",
    "    teams_df[\"year\"] = season_id\n",
    "    return teams_df\n",
    "\n",
    "\n",
    "current = requests.get(url,\n",
    "    cookies=cookies,\n",
    "    params={\"view\": \"mTeam\"})\n",
    "curr_teams = current.json()[\"teams\"]\n",
    "year = current.json()[\"seasonId\"]\n",
    "prev = current.json()[\"status\"][\"previousSeasons\"]\n",
    "full_teams_df = pd.DataFrame(pd.json_normalize(curr_teams))\n",
    "full_teams_df[\"year\"] = year\n"
   ]
  },
  {
   "cell_type": "code",
   "execution_count": 9,
   "metadata": {},
   "outputs": [
    {
     "name": "stderr",
     "output_type": "stream",
     "text": [
      "/tmp/ipykernel_673/2597704606.py:7: FutureWarning: pandas.io.json.json_normalize is deprecated, use pandas.json_normalize instead\n",
      "  teams_df = pd.DataFrame(json_normalize(teams))\n"
     ]
    }
   ],
   "source": [
    "loaded = map(get_data, list(map(lambda y: (y, history_url), prev)))\n",
    "full_teams_df = full_teams_df.append(pd.concat(list(loaded)))\n",
    "#full_teams_df.drop([c for c in full_teams_df.columns \n",
    "#    if c.startswith(\"draftStrategy\") or c.startswith(\"record.away\") or c.startswith(\"record.division\") or c.startswith(\"record.home\")\n",
    "#       or c.startswith(\"valuesByStat\") or c.startswith(\"transactionCounter.matchupAcquisitionTotals\")], \n",
    "#    axis=1, inplace=True)\n",
    "#full_teams_df.drop(columns=[\"isActive\", \"logoType\", \"owners\", \"watchList\"], inplace=True)\n",
    "full_teams_df.to_csv(\"teams.csv\")"
   ]
  }
 ],
 "metadata": {
  "kernelspec": {
   "display_name": "Python 3.8.5 64-bit ('espnff': conda)",
   "metadata": {
    "interpreter": {
     "hash": "725a7a549c8fe2c8b62f3d6e29d11a184353712ab997fd0ae6ae1a6b50d0eb6e"
    }
   },
   "name": "python3"
  },
  "language_info": {
   "codemirror_mode": {
    "name": "ipython",
    "version": 3
   },
   "file_extension": ".py",
   "mimetype": "text/x-python",
   "name": "python",
   "nbconvert_exporter": "python",
   "pygments_lexer": "ipython3",
   "version": "3.8.10"
  },
  "orig_nbformat": 2
 },
 "nbformat": 4,
 "nbformat_minor": 2
}
