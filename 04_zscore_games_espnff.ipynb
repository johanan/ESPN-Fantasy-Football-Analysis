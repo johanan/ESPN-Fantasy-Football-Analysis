{
 "cells": [
  {
   "cell_type": "markdown",
   "metadata": {},
   "source": [
    "# The Fluties \n",
    "\n",
    "This is a statistical analysis of at this point 8 years of a fantasy football league. "
   ]
  },
  {
   "cell_type": "code",
   "execution_count": 1,
   "metadata": {},
   "outputs": [],
   "source": [
    "import pandas as pd\n",
    "import numpy as np\n",
    "\n",
    "import matplotlib\n",
    "import matplotlib.pyplot as plt\n",
    "\n",
    "import scipy\n",
    "from scipy import stats\n",
    "import statsmodels.api as sm\n",
    "from sklearn import linear_model\n",
    "from sklearn.preprocessing import StandardScaler\n",
    "\n",
    "full_teams = pd.read_csv(\"teams.csv\")"
   ]
  },
  {
   "cell_type": "markdown",
   "metadata": {},
   "source": [
    "## Scaling the Data\n",
    "\n",
    "The data needs scaled to account for difference between years. There may have been different amounts of teams, different scoring rules, or a myriad of other things. \n",
    "\n",
    "StandardScaler from Scikit-Learn helps by turning a numeric column into z-scores. These will be calculated per year. This allows for comparing across many years to be standardized. \n",
    "\n",
    "The last step is to drop some outliers. While the data is correct the points against column has 3 points that are almost 1 STD from the 4 point. In addition to this one of those has 8 wins. I am going to need to investigate that. On the top side there is the top observation that only has 7 wins. The 3rd worst points for team has more wins than the most points for team. These are both outliers and the model will be better for not using them."
   ]
  },
  {
   "cell_type": "code",
   "execution_count": 2,
   "metadata": {
    "tags": []
   },
   "outputs": [],
   "source": [
    "scaler = StandardScaler()\n",
    "def zscore(group):\n",
    "    scaled = scaler.fit_transform(X=group[[\"record.overall.pointsFor\", \"record.overall.pointsAgainst\", 'transactionCounter.moveToActive']])\n",
    "    group[\"scaled_pointsFor\"], group[\"scaled_pointsAgainst\"], group[\"scaled_moves\"] = scaled[:,0], scaled[:,1], scaled[:,2]\n",
    "    return group\n",
    "\n",
    "full_scaled_df = full_teams.groupby(\"year\").apply(zscore)\n",
    "scaled_df = full_scaled_df.loc[full_scaled_df[\"scaled_pointsFor\"] > -2.5]\n",
    "scaled_df = scaled_df.loc[scaled_df[\"scaled_pointsFor\"] < 2.1]\n"
   ]
  },
  {
   "cell_type": "markdown",
   "metadata": {},
   "source": [
    "### The Worst Teams\n",
    "\n",
    "Notice the third worst with 8 wins."
   ]
  },
  {
   "cell_type": "code",
   "execution_count": 3,
   "metadata": {},
   "outputs": [
    {
     "data": {
      "text/html": [
       "<div>\n",
       "<style scoped>\n",
       "    .dataframe tbody tr th:only-of-type {\n",
       "        vertical-align: middle;\n",
       "    }\n",
       "\n",
       "    .dataframe tbody tr th {\n",
       "        vertical-align: top;\n",
       "    }\n",
       "\n",
       "    .dataframe thead th {\n",
       "        text-align: right;\n",
       "    }\n",
       "</style>\n",
       "<table border=\"1\" class=\"dataframe\">\n",
       "  <thead>\n",
       "    <tr style=\"text-align: right;\">\n",
       "      <th></th>\n",
       "      <th>abbrev</th>\n",
       "      <th>year</th>\n",
       "      <th>scaled_pointsFor</th>\n",
       "      <th>record.overall.pointsFor</th>\n",
       "      <th>record.overall.wins</th>\n",
       "    </tr>\n",
       "  </thead>\n",
       "  <tbody>\n",
       "    <tr>\n",
       "      <th>23</th>\n",
       "      <td>STP</td>\n",
       "      <td>2012</td>\n",
       "      <td>-2.930836</td>\n",
       "      <td>953.0</td>\n",
       "      <td>2</td>\n",
       "    </tr>\n",
       "    <tr>\n",
       "      <th>67</th>\n",
       "      <td>JJC</td>\n",
       "      <td>2016</td>\n",
       "      <td>-2.671726</td>\n",
       "      <td>1064.8</td>\n",
       "      <td>4</td>\n",
       "    </tr>\n",
       "    <tr>\n",
       "      <th>55</th>\n",
       "      <td>JJC</td>\n",
       "      <td>2015</td>\n",
       "      <td>-2.524540</td>\n",
       "      <td>1293.8</td>\n",
       "      <td>8</td>\n",
       "    </tr>\n",
       "    <tr>\n",
       "      <th>46</th>\n",
       "      <td>TSHU</td>\n",
       "      <td>2014</td>\n",
       "      <td>-1.674177</td>\n",
       "      <td>1305.6</td>\n",
       "      <td>3</td>\n",
       "    </tr>\n",
       "    <tr>\n",
       "      <th>86</th>\n",
       "      <td>SCD</td>\n",
       "      <td>2017</td>\n",
       "      <td>-1.627489</td>\n",
       "      <td>1117.2</td>\n",
       "      <td>4</td>\n",
       "    </tr>\n",
       "  </tbody>\n",
       "</table>\n",
       "</div>"
      ],
      "text/plain": [
       "   abbrev  year  scaled_pointsFor  record.overall.pointsFor  \\\n",
       "23    STP  2012         -2.930836                     953.0   \n",
       "67    JJC  2016         -2.671726                    1064.8   \n",
       "55    JJC  2015         -2.524540                    1293.8   \n",
       "46   TSHU  2014         -1.674177                    1305.6   \n",
       "86    SCD  2017         -1.627489                    1117.2   \n",
       "\n",
       "    record.overall.wins  \n",
       "23                    2  \n",
       "67                    4  \n",
       "55                    8  \n",
       "46                    3  \n",
       "86                    4  "
      ]
     },
     "execution_count": 3,
     "metadata": {},
     "output_type": "execute_result"
    }
   ],
   "source": [
    "full_scaled_df[[\"abbrev\", \"year\", \"scaled_pointsFor\", \"record.overall.pointsFor\", \"record.overall.wins\"]].sort_values(\"scaled_pointsFor\").head(5)"
   ]
  },
  {
   "cell_type": "markdown",
   "metadata": {},
   "source": [
    "### The Best Teams"
   ]
  },
  {
   "cell_type": "code",
   "execution_count": 4,
   "metadata": {},
   "outputs": [
    {
     "data": {
      "text/html": [
       "<div>\n",
       "<style scoped>\n",
       "    .dataframe tbody tr th:only-of-type {\n",
       "        vertical-align: middle;\n",
       "    }\n",
       "\n",
       "    .dataframe tbody tr th {\n",
       "        vertical-align: top;\n",
       "    }\n",
       "\n",
       "    .dataframe thead th {\n",
       "        text-align: right;\n",
       "    }\n",
       "</style>\n",
       "<table border=\"1\" class=\"dataframe\">\n",
       "  <thead>\n",
       "    <tr style=\"text-align: right;\">\n",
       "      <th></th>\n",
       "      <th>abbrev</th>\n",
       "      <th>year</th>\n",
       "      <th>scaled_pointsFor</th>\n",
       "      <th>record.overall.pointsFor</th>\n",
       "      <th>record.overall.wins</th>\n",
       "    </tr>\n",
       "  </thead>\n",
       "  <tbody>\n",
       "    <tr>\n",
       "      <th>111</th>\n",
       "      <td>JFSF</td>\n",
       "      <td>2019</td>\n",
       "      <td>2.158259</td>\n",
       "      <td>1916.6</td>\n",
       "      <td>7</td>\n",
       "    </tr>\n",
       "    <tr>\n",
       "      <th>88</th>\n",
       "      <td>#1</td>\n",
       "      <td>2018</td>\n",
       "      <td>2.084734</td>\n",
       "      <td>2263.1</td>\n",
       "      <td>10</td>\n",
       "    </tr>\n",
       "    <tr>\n",
       "      <th>37</th>\n",
       "      <td>JJJ</td>\n",
       "      <td>2013</td>\n",
       "      <td>2.029172</td>\n",
       "      <td>1754.6</td>\n",
       "      <td>9</td>\n",
       "    </tr>\n",
       "    <tr>\n",
       "      <th>44</th>\n",
       "      <td>DURA</td>\n",
       "      <td>2014</td>\n",
       "      <td>1.875039</td>\n",
       "      <td>1696.4</td>\n",
       "      <td>8</td>\n",
       "    </tr>\n",
       "    <tr>\n",
       "      <th>120</th>\n",
       "      <td>faq</td>\n",
       "      <td>2020</td>\n",
       "      <td>1.743053</td>\n",
       "      <td>2064.4</td>\n",
       "      <td>10</td>\n",
       "    </tr>\n",
       "  </tbody>\n",
       "</table>\n",
       "</div>"
      ],
      "text/plain": [
       "    abbrev  year  scaled_pointsFor  record.overall.pointsFor  \\\n",
       "111   JFSF  2019          2.158259                    1916.6   \n",
       "88      #1  2018          2.084734                    2263.1   \n",
       "37     JJJ  2013          2.029172                    1754.6   \n",
       "44    DURA  2014          1.875039                    1696.4   \n",
       "120    faq  2020          1.743053                    2064.4   \n",
       "\n",
       "     record.overall.wins  \n",
       "111                    7  \n",
       "88                    10  \n",
       "37                     9  \n",
       "44                     8  \n",
       "120                   10  "
      ]
     },
     "execution_count": 4,
     "metadata": {},
     "output_type": "execute_result"
    }
   ],
   "source": [
    "full_scaled_df[[\"abbrev\", \"year\", \"scaled_pointsFor\", \"record.overall.pointsFor\", \"record.overall.wins\"]].sort_values(\"scaled_pointsFor\", ascending=False).head(5)"
   ]
  },
  {
   "cell_type": "markdown",
   "metadata": {},
   "source": [
    "## Teams with the Worst Points Against\n",
    "These teams could not catch a break. They were always playing the opposite team during that team's best week."
   ]
  },
  {
   "cell_type": "code",
   "execution_count": 5,
   "metadata": {},
   "outputs": [
    {
     "data": {
      "text/html": [
       "<div>\n",
       "<style scoped>\n",
       "    .dataframe tbody tr th:only-of-type {\n",
       "        vertical-align: middle;\n",
       "    }\n",
       "\n",
       "    .dataframe tbody tr th {\n",
       "        vertical-align: top;\n",
       "    }\n",
       "\n",
       "    .dataframe thead th {\n",
       "        text-align: right;\n",
       "    }\n",
       "</style>\n",
       "<table border=\"1\" class=\"dataframe\">\n",
       "  <thead>\n",
       "    <tr style=\"text-align: right;\">\n",
       "      <th></th>\n",
       "      <th>abbrev</th>\n",
       "      <th>year</th>\n",
       "      <th>scaled_pointsAgainst</th>\n",
       "      <th>record.overall.pointsAgainst</th>\n",
       "      <th>record.overall.wins</th>\n",
       "    </tr>\n",
       "  </thead>\n",
       "  <tbody>\n",
       "    <tr>\n",
       "      <th>123</th>\n",
       "      <td>MAGA</td>\n",
       "      <td>2020</td>\n",
       "      <td>2.184149</td>\n",
       "      <td>1912.3</td>\n",
       "      <td>2</td>\n",
       "    </tr>\n",
       "    <tr>\n",
       "      <th>21</th>\n",
       "      <td>WRIG</td>\n",
       "      <td>2012</td>\n",
       "      <td>2.178263</td>\n",
       "      <td>1538.0</td>\n",
       "      <td>5</td>\n",
       "    </tr>\n",
       "    <tr>\n",
       "      <th>9</th>\n",
       "      <td>JJJ</td>\n",
       "      <td>2021</td>\n",
       "      <td>2.063998</td>\n",
       "      <td>2047.2</td>\n",
       "      <td>3</td>\n",
       "    </tr>\n",
       "    <tr>\n",
       "      <th>73</th>\n",
       "      <td>JJJ</td>\n",
       "      <td>2016</td>\n",
       "      <td>1.865552</td>\n",
       "      <td>1607.0</td>\n",
       "      <td>3</td>\n",
       "    </tr>\n",
       "    <tr>\n",
       "      <th>98</th>\n",
       "      <td>SCD</td>\n",
       "      <td>2018</td>\n",
       "      <td>1.677092</td>\n",
       "      <td>2054.1</td>\n",
       "      <td>2</td>\n",
       "    </tr>\n",
       "  </tbody>\n",
       "</table>\n",
       "</div>"
      ],
      "text/plain": [
       "    abbrev  year  scaled_pointsAgainst  record.overall.pointsAgainst  \\\n",
       "123   MAGA  2020              2.184149                        1912.3   \n",
       "21    WRIG  2012              2.178263                        1538.0   \n",
       "9      JJJ  2021              2.063998                        2047.2   \n",
       "73     JJJ  2016              1.865552                        1607.0   \n",
       "98     SCD  2018              1.677092                        2054.1   \n",
       "\n",
       "     record.overall.wins  \n",
       "123                    2  \n",
       "21                     5  \n",
       "9                      3  \n",
       "73                     3  \n",
       "98                     2  "
      ]
     },
     "execution_count": 5,
     "metadata": {},
     "output_type": "execute_result"
    }
   ],
   "source": [
    "full_scaled_df[[\"abbrev\", \"year\", \"scaled_pointsAgainst\", \"record.overall.pointsAgainst\", \"record.overall.wins\"]].sort_values(\"scaled_pointsAgainst\", ascending=False).head(5)"
   ]
  },
  {
   "cell_type": "markdown",
   "metadata": {},
   "source": [
    "## Distribution\n",
    "\n",
    "Here is everything laid out in a box plot. The outliers are preserved so they can be easily visualized. These are not included in calculations."
   ]
  },
  {
   "cell_type": "code",
   "execution_count": 6,
   "metadata": {},
   "outputs": [
    {
     "data": {
      "image/png": "[encoded data removed]",
      "text/plain": [
       "<Figure size 864x432 with 1 Axes>"
      ]
     },
     "metadata": {
      "needs_background": "light"
     },
     "output_type": "display_data"
    }
   ],
   "source": [
    "ax = full_scaled_df.boxplot(column=[\"scaled_pointsAgainst\", \"scaled_pointsFor\"], figsize=(12,6))\n",
    "for index, t in full_scaled_df.iterrows():\n",
    "    y = t[\"scaled_pointsFor\"]\n",
    "    x = np.random.normal(2, 0.04)\n",
    "    ax.plot(x, y, 'k.', alpha=0.75)\n",
    "    y_for = t[\"scaled_pointsAgainst\"]\n",
    "    x_for = np.random.normal(1, 0.04)\n",
    "    ax.plot(x_for, y_for, 'r.', alpha=0.75)\n"
   ]
  },
  {
   "cell_type": "markdown",
   "metadata": {},
   "source": [
    "## Linear Regression\n",
    "The models show that the correlation is weak. The charts do show that it exists. Wins being so discrete allows more outliers from the fitted line. A win or loss by 0.1 point is still a discrete win or loss."
   ]
  },
  {
   "cell_type": "code",
   "execution_count": 7,
   "metadata": {},
   "outputs": [],
   "source": [
    "for_mod = sm.OLS(scaled_df['record.overall.wins'], sm.add_constant(scaled_df['scaled_pointsFor']))\n",
    "for_res = for_mod.fit()\n",
    "\n",
    "against_mod = sm.OLS(scaled_df['record.overall.wins'], sm.add_constant(scaled_df['scaled_pointsAgainst']))\n",
    "against_res = against_mod.fit()\n",
    "\n",
    "moves_mod = sm.OLS(scaled_df['record.overall.wins'], sm.add_constant(scaled_df['scaled_moves']))\n",
    "moves_res = against_mod.fit()"
   ]
  },
  {
   "cell_type": "code",
   "execution_count": 8,
   "metadata": {},
   "outputs": [
    {
     "data": {
      "text/plain": [
       "0.4396422453923463"
      ]
     },
     "execution_count": 8,
     "metadata": {},
     "output_type": "execute_result"
    }
   ],
   "source": [
    "for_res.rsquared"
   ]
  },
  {
   "cell_type": "code",
   "execution_count": 9,
   "metadata": {},
   "outputs": [
    {
     "data": {
      "text/plain": [
       "0.3776515895357476"
      ]
     },
     "execution_count": 9,
     "metadata": {},
     "output_type": "execute_result"
    }
   ],
   "source": [
    "against_res.rsquared"
   ]
  },
  {
   "cell_type": "code",
   "execution_count": 10,
   "metadata": {},
   "outputs": [
    {
     "data": {
      "text/plain": [
       "0.3776515895357476"
      ]
     },
     "execution_count": 10,
     "metadata": {},
     "output_type": "execute_result"
    }
   ],
   "source": [
    "moves_res.rsquared"
   ]
  },
  {
   "cell_type": "code",
   "execution_count": 11,
   "metadata": {},
   "outputs": [
    {
     "data": {
      "text/plain": [
       "Text(0.5, 0, 'Moves')"
      ]
     },
     "execution_count": 11,
     "metadata": {},
     "output_type": "execute_result"
    },
    {
     "data": {
      "image/png": "[encoded data removed]",
      "text/plain": [
       "<Figure size 1440x576 with 3 Axes>"
      ]
     },
     "metadata": {
      "needs_background": "light"
     },
     "output_type": "display_data"
    }
   ],
   "source": [
    "def regress_plot(slope, intercept, x, y, plt):\n",
    "    plt.plot(x, y, 'o', markersize=5)\n",
    "\n",
    "    plt.plot(x, slope*x + intercept, 'r')\n",
    "    \n",
    "fig, ax = plt.subplots(nrows=1, ncols=3, figsize=(20,8))\n",
    "regress_plot(for_res.params[1], for_res.params[0], scaled_df['scaled_pointsFor'], scaled_df['record.overall.wins'], ax[0])\n",
    "regress_plot(against_res.params[1], against_res.params[0], scaled_df['scaled_pointsAgainst'], scaled_df['record.overall.wins'], ax[1])\n",
    "regress_plot(moves_res.params[1], moves_res.params[0], scaled_df['scaled_moves'], scaled_df['record.overall.wins'], ax[2])\n",
    "ax[0].set_xlabel('Points For')\n",
    "ax[0].set_ylabel('Wins')\n",
    "ax[1].set_xlabel('Points Against')\n",
    "ax[2].set_xlabel('Moves')"
   ]
  },
  {
   "cell_type": "markdown",
   "metadata": {},
   "source": [
    "##Multiple Variable Regression\n",
    "\n",
    "Points for and points against will get a fairly strong correaltion to wins. "
   ]
  },
  {
   "cell_type": "code",
   "execution_count": 12,
   "metadata": {},
   "outputs": [
    {
     "data": {
      "text/html": [
       "<table class=\"simpletable\">\n",
       "<caption>OLS Regression Results</caption>\n",
       "<tr>\n",
       "  <th>Dep. Variable:</th>    <td>record.overall.wins</td> <th>  R-squared:         </th> <td>   0.680</td>\n",
       "</tr>\n",
       "<tr>\n",
       "  <th>Model:</th>                    <td>OLS</td>         <th>  Adj. R-squared:    </th> <td>   0.675</td>\n",
       "</tr>\n",
       "<tr>\n",
       "  <th>Method:</th>              <td>Least Squares</td>    <th>  F-statistic:       </th> <td>   124.5</td>\n",
       "</tr>\n",
       "<tr>\n",
       "  <th>Date:</th>              <td>Sun, 09 Jan 2022</td>   <th>  Prob (F-statistic):</th> <td>1.07e-29</td>\n",
       "</tr>\n",
       "<tr>\n",
       "  <th>Time:</th>                  <td>23:17:55</td>       <th>  Log-Likelihood:    </th> <td> -190.18</td>\n",
       "</tr>\n",
       "<tr>\n",
       "  <th>No. Observations:</th>       <td>   120</td>        <th>  AIC:               </th> <td>   386.4</td>\n",
       "</tr>\n",
       "<tr>\n",
       "  <th>Df Residuals:</th>           <td>   117</td>        <th>  BIC:               </th> <td>   394.7</td>\n",
       "</tr>\n",
       "<tr>\n",
       "  <th>Df Model:</th>               <td>     2</td>        <th>                     </th>     <td> </td>   \n",
       "</tr>\n",
       "<tr>\n",
       "  <th>Covariance Type:</th>       <td>nonrobust</td>      <th>                     </th>     <td> </td>   \n",
       "</tr>\n",
       "</table>\n",
       "<table class=\"simpletable\">\n",
       "<tr>\n",
       "            <td></td>              <th>coef</th>     <th>std err</th>      <th>t</th>      <th>P>|t|</th>  <th>[0.025</th>    <th>0.975]</th>  \n",
       "</tr>\n",
       "<tr>\n",
       "  <th>const</th>                <td>    6.5499</td> <td>    0.109</td> <td>   59.891</td> <td> 0.000</td> <td>    6.333</td> <td>    6.767</td>\n",
       "</tr>\n",
       "<tr>\n",
       "  <th>scaled_pointsFor</th>     <td>    1.3047</td> <td>    0.124</td> <td>   10.523</td> <td> 0.000</td> <td>    1.059</td> <td>    1.550</td>\n",
       "</tr>\n",
       "<tr>\n",
       "  <th>scaled_pointsAgainst</th> <td>   -1.0392</td> <td>    0.111</td> <td>   -9.383</td> <td> 0.000</td> <td>   -1.259</td> <td>   -0.820</td>\n",
       "</tr>\n",
       "</table>\n",
       "<table class=\"simpletable\">\n",
       "<tr>\n",
       "  <th>Omnibus:</th>       <td> 7.048</td> <th>  Durbin-Watson:     </th> <td>   1.703</td>\n",
       "</tr>\n",
       "<tr>\n",
       "  <th>Prob(Omnibus):</th> <td> 0.029</td> <th>  Jarque-Bera (JB):  </th> <td>   3.196</td>\n",
       "</tr>\n",
       "<tr>\n",
       "  <th>Skew:</th>          <td>-0.072</td> <th>  Prob(JB):          </th> <td>   0.202</td>\n",
       "</tr>\n",
       "<tr>\n",
       "  <th>Kurtosis:</th>      <td> 2.214</td> <th>  Cond. No.          </th> <td>    1.27</td>\n",
       "</tr>\n",
       "</table><br/><br/>Notes:<br/>[1] Standard Errors assume that the covariance matrix of the errors is correctly specified."
      ],
      "text/plain": [
       "<class 'statsmodels.iolib.summary.Summary'>\n",
       "\"\"\"\n",
       "                             OLS Regression Results                            \n",
       "===============================================================================\n",
       "Dep. Variable:     record.overall.wins   R-squared:                       0.680\n",
       "Model:                             OLS   Adj. R-squared:                  0.675\n",
       "Method:                  Least Squares   F-statistic:                     124.5\n",
       "Date:                 Sun, 09 Jan 2022   Prob (F-statistic):           1.07e-29\n",
       "Time:                         23:17:55   Log-Likelihood:                -190.18\n",
       "No. Observations:                  120   AIC:                             386.4\n",
       "Df Residuals:                      117   BIC:                             394.7\n",
       "Df Model:                            2                                         \n",
       "Covariance Type:             nonrobust                                         \n",
       "========================================================================================\n",
       "                           coef    std err          t      P>|t|      [0.025      0.975]\n",
       "----------------------------------------------------------------------------------------\n",
       "const                    6.5499      0.109     59.891      0.000       6.333       6.767\n",
       "scaled_pointsFor         1.3047      0.124     10.523      0.000       1.059       1.550\n",
       "scaled_pointsAgainst    -1.0392      0.111     -9.383      0.000      -1.259      -0.820\n",
       "==============================================================================\n",
       "Omnibus:                        7.048   Durbin-Watson:                   1.703\n",
       "Prob(Omnibus):                  0.029   Jarque-Bera (JB):                3.196\n",
       "Skew:                          -0.072   Prob(JB):                        0.202\n",
       "Kurtosis:                       2.214   Cond. No.                         1.27\n",
       "==============================================================================\n",
       "\n",
       "Notes:\n",
       "[1] Standard Errors assume that the covariance matrix of the errors is correctly specified.\n",
       "\"\"\""
      ]
     },
     "execution_count": 12,
     "metadata": {},
     "output_type": "execute_result"
    }
   ],
   "source": [
    "both_mod = sm.OLS(scaled_df['record.overall.wins'], sm.add_constant(scaled_df[['scaled_pointsFor', 'scaled_pointsAgainst']]))\n",
    "both_res = both_mod.fit()\n",
    "\n",
    "both_res.summary()\n",
    "#both_mod = sm.RLM(scaled_df['record.overall.wins'], sm.add_constant(scaled_df[['scaled_pointsFor', 'scaled_pointsAgainst']]), M=sm.robust.norms.AndrewWave())\n",
    "#both_res = both_mod.fit()\n",
    "#both_res.summary()"
   ]
  },
  {
   "cell_type": "markdown",
   "metadata": {},
   "source": [
    "###2021 Corrections\n",
    "\n",
    "Corrections based on the entire history of the league."
   ]
  },
  {
   "cell_type": "code",
   "execution_count": 13,
   "metadata": {},
   "outputs": [
    {
     "data": {
      "text/html": [
       "<div>\n",
       "<style scoped>\n",
       "    .dataframe tbody tr th:only-of-type {\n",
       "        vertical-align: middle;\n",
       "    }\n",
       "\n",
       "    .dataframe tbody tr th {\n",
       "        vertical-align: top;\n",
       "    }\n",
       "\n",
       "    .dataframe thead th {\n",
       "        text-align: right;\n",
       "    }\n",
       "</style>\n",
       "<table border=\"1\" class=\"dataframe\">\n",
       "  <thead>\n",
       "    <tr style=\"text-align: right;\">\n",
       "      <th></th>\n",
       "      <th>abbrev</th>\n",
       "      <th>year</th>\n",
       "      <th>record.overall.wins</th>\n",
       "      <th>pred_wins</th>\n",
       "      <th>residuals</th>\n",
       "      <th>playoffSeed</th>\n",
       "    </tr>\n",
       "  </thead>\n",
       "  <tbody>\n",
       "    <tr>\n",
       "      <th>0</th>\n",
       "      <td>Caw</td>\n",
       "      <td>2021</td>\n",
       "      <td>8</td>\n",
       "      <td>9.074160</td>\n",
       "      <td>-1.074160</td>\n",
       "      <td>5</td>\n",
       "    </tr>\n",
       "    <tr>\n",
       "      <th>7</th>\n",
       "      <td>2021</td>\n",
       "      <td>2021</td>\n",
       "      <td>10</td>\n",
       "      <td>9.051414</td>\n",
       "      <td>0.948586</td>\n",
       "      <td>2</td>\n",
       "    </tr>\n",
       "    <tr>\n",
       "      <th>11</th>\n",
       "      <td>NPZ</td>\n",
       "      <td>2021</td>\n",
       "      <td>11</td>\n",
       "      <td>8.819560</td>\n",
       "      <td>2.180440</td>\n",
       "      <td>1</td>\n",
       "    </tr>\n",
       "    <tr>\n",
       "      <th>5</th>\n",
       "      <td>BD</td>\n",
       "      <td>2021</td>\n",
       "      <td>9</td>\n",
       "      <td>8.618452</td>\n",
       "      <td>0.381548</td>\n",
       "      <td>3</td>\n",
       "    </tr>\n",
       "    <tr>\n",
       "      <th>10</th>\n",
       "      <td>BMT</td>\n",
       "      <td>2021</td>\n",
       "      <td>8</td>\n",
       "      <td>6.480954</td>\n",
       "      <td>1.519046</td>\n",
       "      <td>4</td>\n",
       "    </tr>\n",
       "    <tr>\n",
       "      <th>6</th>\n",
       "      <td>Rock</td>\n",
       "      <td>2021</td>\n",
       "      <td>7</td>\n",
       "      <td>6.392172</td>\n",
       "      <td>0.607828</td>\n",
       "      <td>6</td>\n",
       "    </tr>\n",
       "    <tr>\n",
       "      <th>1</th>\n",
       "      <td>TOTY</td>\n",
       "      <td>2021</td>\n",
       "      <td>7</td>\n",
       "      <td>6.008377</td>\n",
       "      <td>0.991623</td>\n",
       "      <td>8</td>\n",
       "    </tr>\n",
       "    <tr>\n",
       "      <th>8</th>\n",
       "      <td>faq</td>\n",
       "      <td>2021</td>\n",
       "      <td>7</td>\n",
       "      <td>5.957871</td>\n",
       "      <td>1.042129</td>\n",
       "      <td>7</td>\n",
       "    </tr>\n",
       "    <tr>\n",
       "      <th>2</th>\n",
       "      <td>Sith</td>\n",
       "      <td>2021</td>\n",
       "      <td>5</td>\n",
       "      <td>5.382350</td>\n",
       "      <td>-0.382350</td>\n",
       "      <td>9</td>\n",
       "    </tr>\n",
       "    <tr>\n",
       "      <th>4</th>\n",
       "      <td>Mill</td>\n",
       "      <td>2021</td>\n",
       "      <td>5</td>\n",
       "      <td>5.312189</td>\n",
       "      <td>-0.312189</td>\n",
       "      <td>10</td>\n",
       "    </tr>\n",
       "    <tr>\n",
       "      <th>9</th>\n",
       "      <td>JJJ</td>\n",
       "      <td>2021</td>\n",
       "      <td>3</td>\n",
       "      <td>3.782924</td>\n",
       "      <td>-0.782924</td>\n",
       "      <td>12</td>\n",
       "    </tr>\n",
       "    <tr>\n",
       "      <th>3</th>\n",
       "      <td>TMB</td>\n",
       "      <td>2021</td>\n",
       "      <td>4</td>\n",
       "      <td>3.718918</td>\n",
       "      <td>0.281082</td>\n",
       "      <td>11</td>\n",
       "    </tr>\n",
       "  </tbody>\n",
       "</table>\n",
       "</div>"
      ],
      "text/plain": [
       "   abbrev  year  record.overall.wins  pred_wins  residuals  playoffSeed\n",
       "0     Caw  2021                    8   9.074160  -1.074160            5\n",
       "7    2021  2021                   10   9.051414   0.948586            2\n",
       "11    NPZ  2021                   11   8.819560   2.180440            1\n",
       "5      BD  2021                    9   8.618452   0.381548            3\n",
       "10    BMT  2021                    8   6.480954   1.519046            4\n",
       "6    Rock  2021                    7   6.392172   0.607828            6\n",
       "1    TOTY  2021                    7   6.008377   0.991623            8\n",
       "8     faq  2021                    7   5.957871   1.042129            7\n",
       "2    Sith  2021                    5   5.382350  -0.382350            9\n",
       "4    Mill  2021                    5   5.312189  -0.312189           10\n",
       "9     JJJ  2021                    3   3.782924  -0.782924           12\n",
       "3     TMB  2021                    4   3.718918   0.281082           11"
      ]
     },
     "execution_count": 13,
     "metadata": {},
     "output_type": "execute_result"
    }
   ],
   "source": [
    "scaled_df[\"residuals\"] = both_res.resid\n",
    "scaled_df[\"pred_wins\"] = both_res.fittedvalues\n",
    "\n",
    "current = scaled_df.loc[scaled_df[\"year\"] == 2021]\n",
    "current[[\"abbrev\", \"year\", \"record.overall.wins\", \"pred_wins\", \"residuals\", \"playoffSeed\"]].sort_values(\"pred_wins\", ascending=False).head(12)"
   ]
  },
  {
   "cell_type": "markdown",
   "metadata": {},
   "source": [
    "###All Time Underperformers"
   ]
  },
  {
   "cell_type": "code",
   "execution_count": 14,
   "metadata": {},
   "outputs": [
    {
     "data": {
      "text/html": [
       "<div>\n",
       "<style scoped>\n",
       "    .dataframe tbody tr th:only-of-type {\n",
       "        vertical-align: middle;\n",
       "    }\n",
       "\n",
       "    .dataframe tbody tr th {\n",
       "        vertical-align: top;\n",
       "    }\n",
       "\n",
       "    .dataframe thead th {\n",
       "        text-align: right;\n",
       "    }\n",
       "</style>\n",
       "<table border=\"1\" class=\"dataframe\">\n",
       "  <thead>\n",
       "    <tr style=\"text-align: right;\">\n",
       "      <th></th>\n",
       "      <th>abbrev</th>\n",
       "      <th>year</th>\n",
       "      <th>record.overall.wins</th>\n",
       "      <th>pred_wins</th>\n",
       "      <th>residuals</th>\n",
       "      <th>playoffSeed</th>\n",
       "    </tr>\n",
       "  </thead>\n",
       "  <tbody>\n",
       "    <tr>\n",
       "      <th>62</th>\n",
       "      <td>SCD</td>\n",
       "      <td>2015</td>\n",
       "      <td>4</td>\n",
       "      <td>6.770500</td>\n",
       "      <td>-2.770500</td>\n",
       "      <td>12</td>\n",
       "    </tr>\n",
       "    <tr>\n",
       "      <th>97</th>\n",
       "      <td>JJJ</td>\n",
       "      <td>2018</td>\n",
       "      <td>4</td>\n",
       "      <td>6.309476</td>\n",
       "      <td>-2.309476</td>\n",
       "      <td>10</td>\n",
       "    </tr>\n",
       "    <tr>\n",
       "      <th>36</th>\n",
       "      <td>DURA</td>\n",
       "      <td>2013</td>\n",
       "      <td>6</td>\n",
       "      <td>8.175066</td>\n",
       "      <td>-2.175066</td>\n",
       "      <td>8</td>\n",
       "    </tr>\n",
       "    <tr>\n",
       "      <th>19</th>\n",
       "      <td>HOLD</td>\n",
       "      <td>2012</td>\n",
       "      <td>4</td>\n",
       "      <td>6.081244</td>\n",
       "      <td>-2.081244</td>\n",
       "      <td>15</td>\n",
       "    </tr>\n",
       "    <tr>\n",
       "      <th>59</th>\n",
       "      <td>SSGW</td>\n",
       "      <td>2015</td>\n",
       "      <td>4</td>\n",
       "      <td>6.030585</td>\n",
       "      <td>-2.030585</td>\n",
       "      <td>11</td>\n",
       "    </tr>\n",
       "    <tr>\n",
       "      <th>107</th>\n",
       "      <td>#50%</td>\n",
       "      <td>2019</td>\n",
       "      <td>5</td>\n",
       "      <td>7.010610</td>\n",
       "      <td>-2.010610</td>\n",
       "      <td>11</td>\n",
       "    </tr>\n",
       "    <tr>\n",
       "      <th>80</th>\n",
       "      <td>Mill</td>\n",
       "      <td>2017</td>\n",
       "      <td>7</td>\n",
       "      <td>8.919612</td>\n",
       "      <td>-1.919612</td>\n",
       "      <td>5</td>\n",
       "    </tr>\n",
       "    <tr>\n",
       "      <th>66</th>\n",
       "      <td>Seth</td>\n",
       "      <td>2016</td>\n",
       "      <td>3</td>\n",
       "      <td>4.914638</td>\n",
       "      <td>-1.914638</td>\n",
       "      <td>11</td>\n",
       "    </tr>\n",
       "    <tr>\n",
       "      <th>79</th>\n",
       "      <td>JJC</td>\n",
       "      <td>2017</td>\n",
       "      <td>3</td>\n",
       "      <td>4.880829</td>\n",
       "      <td>-1.880829</td>\n",
       "      <td>12</td>\n",
       "    </tr>\n",
       "    <tr>\n",
       "      <th>110</th>\n",
       "      <td>SCD</td>\n",
       "      <td>2019</td>\n",
       "      <td>6</td>\n",
       "      <td>7.872239</td>\n",
       "      <td>-1.872239</td>\n",
       "      <td>9</td>\n",
       "    </tr>\n",
       "  </tbody>\n",
       "</table>\n",
       "</div>"
      ],
      "text/plain": [
       "    abbrev  year  record.overall.wins  pred_wins  residuals  playoffSeed\n",
       "62     SCD  2015                    4   6.770500  -2.770500           12\n",
       "97     JJJ  2018                    4   6.309476  -2.309476           10\n",
       "36    DURA  2013                    6   8.175066  -2.175066            8\n",
       "19    HOLD  2012                    4   6.081244  -2.081244           15\n",
       "59    SSGW  2015                    4   6.030585  -2.030585           11\n",
       "107   #50%  2019                    5   7.010610  -2.010610           11\n",
       "80    Mill  2017                    7   8.919612  -1.919612            5\n",
       "66    Seth  2016                    3   4.914638  -1.914638           11\n",
       "79     JJC  2017                    3   4.880829  -1.880829           12\n",
       "110    SCD  2019                    6   7.872239  -1.872239            9"
      ]
     },
     "execution_count": 14,
     "metadata": {},
     "output_type": "execute_result"
    }
   ],
   "source": [
    "scaled_df[[\"abbrev\", \"year\", \"record.overall.wins\", \"pred_wins\", \"residuals\", \"playoffSeed\"]].sort_values(\"residuals\").head(10)"
   ]
  },
  {
   "cell_type": "markdown",
   "metadata": {},
   "source": [
    "###All Time Overperformers"
   ]
  },
  {
   "cell_type": "code",
   "execution_count": 15,
   "metadata": {},
   "outputs": [
    {
     "data": {
      "text/html": [
       "<div>\n",
       "<style scoped>\n",
       "    .dataframe tbody tr th:only-of-type {\n",
       "        vertical-align: middle;\n",
       "    }\n",
       "\n",
       "    .dataframe tbody tr th {\n",
       "        vertical-align: top;\n",
       "    }\n",
       "\n",
       "    .dataframe thead th {\n",
       "        text-align: right;\n",
       "    }\n",
       "</style>\n",
       "<table border=\"1\" class=\"dataframe\">\n",
       "  <thead>\n",
       "    <tr style=\"text-align: right;\">\n",
       "      <th></th>\n",
       "      <th>abbrev</th>\n",
       "      <th>year</th>\n",
       "      <th>record.overall.wins</th>\n",
       "      <th>pred_wins</th>\n",
       "      <th>residuals</th>\n",
       "      <th>playoffSeed</th>\n",
       "    </tr>\n",
       "  </thead>\n",
       "  <tbody>\n",
       "    <tr>\n",
       "      <th>112</th>\n",
       "      <td>#1</td>\n",
       "      <td>2020</td>\n",
       "      <td>11</td>\n",
       "      <td>8.666453</td>\n",
       "      <td>2.333547</td>\n",
       "      <td>1</td>\n",
       "    </tr>\n",
       "    <tr>\n",
       "      <th>109</th>\n",
       "      <td>JJJ</td>\n",
       "      <td>2019</td>\n",
       "      <td>7</td>\n",
       "      <td>4.680512</td>\n",
       "      <td>2.319488</td>\n",
       "      <td>2</td>\n",
       "    </tr>\n",
       "    <tr>\n",
       "      <th>11</th>\n",
       "      <td>NPZ</td>\n",
       "      <td>2021</td>\n",
       "      <td>11</td>\n",
       "      <td>8.819560</td>\n",
       "      <td>2.180440</td>\n",
       "      <td>1</td>\n",
       "    </tr>\n",
       "    <tr>\n",
       "      <th>95</th>\n",
       "      <td>#WIN</td>\n",
       "      <td>2018</td>\n",
       "      <td>7</td>\n",
       "      <td>4.893656</td>\n",
       "      <td>2.106344</td>\n",
       "      <td>7</td>\n",
       "    </tr>\n",
       "    <tr>\n",
       "      <th>16</th>\n",
       "      <td>WRIG</td>\n",
       "      <td>2012</td>\n",
       "      <td>6</td>\n",
       "      <td>3.897959</td>\n",
       "      <td>2.102041</td>\n",
       "      <td>10</td>\n",
       "    </tr>\n",
       "    <tr>\n",
       "      <th>31</th>\n",
       "      <td>KMU</td>\n",
       "      <td>2013</td>\n",
       "      <td>6</td>\n",
       "      <td>3.967952</td>\n",
       "      <td>2.032048</td>\n",
       "      <td>6</td>\n",
       "    </tr>\n",
       "    <tr>\n",
       "      <th>72</th>\n",
       "      <td>win</td>\n",
       "      <td>2016</td>\n",
       "      <td>9</td>\n",
       "      <td>7.058635</td>\n",
       "      <td>1.941365</td>\n",
       "      <td>5</td>\n",
       "    </tr>\n",
       "    <tr>\n",
       "      <th>105</th>\n",
       "      <td>TWS</td>\n",
       "      <td>2019</td>\n",
       "      <td>7</td>\n",
       "      <td>5.190395</td>\n",
       "      <td>1.809605</td>\n",
       "      <td>3</td>\n",
       "    </tr>\n",
       "    <tr>\n",
       "      <th>82</th>\n",
       "      <td>JIAT</td>\n",
       "      <td>2017</td>\n",
       "      <td>11</td>\n",
       "      <td>9.339821</td>\n",
       "      <td>1.660179</td>\n",
       "      <td>1</td>\n",
       "    </tr>\n",
       "    <tr>\n",
       "      <th>83</th>\n",
       "      <td>#WIN</td>\n",
       "      <td>2017</td>\n",
       "      <td>9</td>\n",
       "      <td>7.364215</td>\n",
       "      <td>1.635785</td>\n",
       "      <td>2</td>\n",
       "    </tr>\n",
       "  </tbody>\n",
       "</table>\n",
       "</div>"
      ],
      "text/plain": [
       "    abbrev  year  record.overall.wins  pred_wins  residuals  playoffSeed\n",
       "112     #1  2020                   11   8.666453   2.333547            1\n",
       "109    JJJ  2019                    7   4.680512   2.319488            2\n",
       "11     NPZ  2021                   11   8.819560   2.180440            1\n",
       "95    #WIN  2018                    7   4.893656   2.106344            7\n",
       "16    WRIG  2012                    6   3.897959   2.102041           10\n",
       "31     KMU  2013                    6   3.967952   2.032048            6\n",
       "72     win  2016                    9   7.058635   1.941365            5\n",
       "105    TWS  2019                    7   5.190395   1.809605            3\n",
       "82    JIAT  2017                   11   9.339821   1.660179            1\n",
       "83    #WIN  2017                    9   7.364215   1.635785            2"
      ]
     },
     "execution_count": 15,
     "metadata": {},
     "output_type": "execute_result"
    }
   ],
   "source": [
    "scaled_df[[\"abbrev\", \"year\", \"record.overall.wins\", \"pred_wins\", \"residuals\", \"playoffSeed\"]].sort_values(\"residuals\", ascending=False).head(10)"
   ]
  },
  {
   "cell_type": "code",
   "execution_count": 16,
   "metadata": {},
   "outputs": [],
   "source": [
    "scaled_df.to_csv(\"scaled_teams.csv\")"
   ]
  },
  {
   "cell_type": "code",
   "execution_count": 17,
   "metadata": {},
   "outputs": [
    {
     "name": "stdout",
     "output_type": "stream",
     "text": [
      "eval_env: 1\n"
     ]
    },
    {
     "data": {
      "image/png": "[encoded data removed]",
      "text/plain": [
       "<Figure size 864x576 with 4 Axes>"
      ]
     },
     "metadata": {
      "needs_background": "light"
     },
     "output_type": "display_data"
    }
   ],
   "source": [
    "fig = plt.figure(figsize=(12,8))\n",
    "fig = sm.graphics.plot_regress_exog(both_res, \"scaled_pointsFor\", fig=fig)"
   ]
  }
 ],
 "metadata": {
  "kernelspec": {
   "display_name": "Python 3.8.5 64-bit ('espnff': conda)",
   "metadata": {
    "interpreter": {
     "hash": "725a7a549c8fe2c8b62f3d6e29d11a184353712ab997fd0ae6ae1a6b50d0eb6e"
    }
   },
   "name": "python3"
  },
  "language_info": {
   "codemirror_mode": {
    "name": "ipython",
    "version": 3
   },
   "file_extension": ".py",
   "mimetype": "text/x-python",
   "name": "python",
   "nbconvert_exporter": "python",
   "pygments_lexer": "ipython3",
   "version": "3.8.10"
  },
  "orig_nbformat": 2
 },
 "nbformat": 4,
 "nbformat_minor": 2
}
