{
 "cells": [
  {
   "cell_type": "markdown",
   "metadata": {},
   "source": [
    "# Players Load\n",
    "This will load the points for every player over every week. The only way to do this is to ask for each week separately. This may take a few minutes to run. This will allow us to test how well a team was managed based on how the players played.\n",
    "\n",
    "Creates `players_y.csv` with `y` being the year."
   ]
  },
  {
   "cell_type": "code",
   "execution_count": 27,
   "metadata": {},
   "outputs": [],
   "source": [
    "import os\n",
    "import requests\n",
    "import pandas as pd\n",
    "import json\n",
    "\n",
    "from dotenv import load_dotenv\n",
    "\n",
    "from functools import reduce, partial\n",
    "\n",
    "load_dotenv()\n",
    "league_id = os.getenv('league_id')\n",
    "current_year = int(os.getenv('current_year'))\n",
    "url = partial(\"https://fantasy.espn.com/apis/v3/games/ffl/seasons/{year}/segments/0/leagues/{league_id}\".format, league_id=league_id)\n",
    "history_url = \"https://fantasy.espn.com/apis/v3/games/ffl/leagueHistory/{}\".format(league_id)\n",
    "cookies = {\n",
    "        \"swid\": os.getenv('swid'),\n",
    "        \"espn_s2\": os.getenv('espn_s2')\n",
    "    }\n"
   ]
  },
  {
   "cell_type": "code",
   "execution_count": 28,
   "metadata": {},
   "outputs": [],
   "source": [
    "teams = pd.read_csv(\"teams.csv\", usecols=['id', 'year'])\n",
    "cur_teams = teams.loc[teams[\"year\"] == current_year]\n",
    "hist_teams = teams.loc[teams[\"year\"].isin([2019, 2020])]"
   ]
  },
  {
   "cell_type": "code",
   "execution_count": 20,
   "metadata": {},
   "outputs": [],
   "source": [
    "def flatmap(func, iter):\n",
    "    return reduce(list.__add__, map(func, iter))\n",
    "\n",
    "def unwrap(req):\n",
    "    return req.json()[0]\n",
    "\n",
    "def pass_through(req):\n",
    "    return req.json()\n"
   ]
  },
  {
   "cell_type": "code",
   "execution_count": 22,
   "metadata": {},
   "outputs": [],
   "source": [
    "def current_year_game(roster_key, scoringPeriodId, seasonId, load_url, func):\n",
    "    req = requests.get(load_url,\n",
    "    cookies=cookies,\n",
    "    params={\"view\": [\"mRoster\", \"mMatchup\", \"mMatchupScore\"], \"scoringPeriodId\": scoringPeriodId, \"seasonId\": seasonId})\n",
    "    schedule = func(req)[\"schedule\"]\n",
    "    find_roster = list(filter(lambda x: roster_key in x[\"away\"] or roster_key in x[\"home\"], schedule))\n",
    "    return find_roster\n",
    "\n",
    "def get_game_data(roster_key, game):\n",
    "    away_team_id = game[\"away\"][\"teamId\"]\n",
    "    scoringPeriodId = game[\"matchupPeriodId\"]\n",
    "    away_roster = list(map(lambda x: get_player_game_data(x, scoringPeriodId, away_team_id), game[\"away\"][roster_key][\"entries\"]))\n",
    "    home_team_id = game[\"home\"][\"teamId\"]\n",
    "    home_roster = list(map(lambda x: get_player_game_data(x, scoringPeriodId, home_team_id), game[\"home\"][roster_key][\"entries\"]))\n",
    "    return away_roster + home_roster\n",
    "\n",
    "def get_player_game_data(player, scoringPeriodId, teamId):\n",
    "    name = player['playerPoolEntry']['player']['fullName']\n",
    "    slotId = player['lineupSlotId']\n",
    "    injury = player['playerPoolEntry']['player']['injuryStatus'] if 'injuryStatus' in player['playerPoolEntry']['player'] else 'NA'\n",
    "    year = max([stat['seasonId'] for stat in player['playerPoolEntry']['player']['stats']] + [0])\n",
    "    actual = ([stat['appliedTotal'] for stat in player['playerPoolEntry']['player']['stats'] if stat['scoringPeriodId'] == scoringPeriodId and stat['statSourceId'] == 0] + [0.0])[0]\n",
    "    projected = ([stat['appliedTotal'] for stat in player['playerPoolEntry']['player']['stats'] if stat['scoringPeriodId'] == scoringPeriodId and stat['statSourceId'] == 1] + [0.0])[0]\n",
    "    slots = player['playerPoolEntry']['player']['eligibleSlots']\n",
    "    playerId = player['playerId']\n",
    "    return [name, slotId, scoringPeriodId, year, teamId, injury, actual, projected, slots, playerId]\n",
    "\n",
    "cur_game = partial(current_year_game, \"rosterForCurrentScoringPeriod\")\n",
    "hist_game = partial(current_year_game, \"rosterForMatchupPeriod\")\n",
    "\n",
    "cur_game_data = partial(get_game_data, \"rosterForCurrentScoringPeriod\")\n",
    "hist_game_data = partial(get_game_data, \"rosterForMatchupPeriod\")"
   ]
  },
  {
   "cell_type": "code",
   "execution_count": 23,
   "metadata": {},
   "outputs": [],
   "source": [
    "def get_all_periods(teamId, year):\n",
    "    return list(map(lambda x: (x, teamId, year), range(1,14)))\n",
    "\n",
    "def get_game_for_team(teamId, scoringPeriodId, seasonId, load_url, func):\n",
    "    req = requests.get(load_url,\n",
    "    cookies=cookies,\n",
    "    params={\"view\": \"mRoster\", \"scoringPeriodId\": scoringPeriodId, \"seasonId\": seasonId, \"forTeamId\": teamId})\n",
    "    roster = func(req)[\"teams\"][0][\"roster\"][\"entries\"]\n",
    "    return roster\n",
    "\n",
    "def get_player_data(player):\n",
    "    name = player['playerPoolEntry']['player']['fullName']\n",
    "    slotId = player['lineupSlotId']\n",
    "    score = player['playerPoolEntry']['appliedStatTotal']\n",
    "    slots = player['playerPoolEntry']['player']['eligibleSlots']\n",
    "    playerId = player['playerId']\n",
    "    year = max([stat['seasonId'] for stat in player['playerPoolEntry']['player']['stats']] + [0])\n",
    "    scoringPeriodId = max([stat['scoringPeriodId'] for stat in player['playerPoolEntry']['player']['stats']] + [0])\n",
    "    status = player['playerPoolEntry']['player']['injuryStatus'] if 'injuryStatus' in player['playerPoolEntry']['player'] else 'NA'\n",
    "    teamId = player['playerPoolEntry']['onTeamId']\n",
    "    return [name, slotId, scoringPeriodId, year, teamId, status, score, slots, playerId]\n",
    "    "
   ]
  },
  {
   "cell_type": "code",
   "execution_count": 30,
   "metadata": {},
   "outputs": [],
   "source": [
    "games = flatmap(lambda x: get_game_for_team(x[1], x[0], x[2], url(year=x[2]), pass_through) ,flatmap(lambda x: get_all_periods(x[0], x[1]), cur_teams.values))\n"
   ]
  },
  {
   "cell_type": "code",
   "execution_count": 31,
   "metadata": {},
   "outputs": [],
   "source": [
    "players = list(map(get_player_data, games))\n",
    "cur_players_df = pd.DataFrame(players, columns=['name', 'position_id', 'week', 'year', 'team_id', 'status', 'points', 'slots', 'player_id'])"
   ]
  },
  {
   "cell_type": "code",
   "execution_count": 33,
   "metadata": {},
   "outputs": [],
   "source": [
    "cur_players_df.to_csv(\"players_{}.csv\".format(current_year))"
   ]
  },
  {
   "cell_type": "code",
   "execution_count": 34,
   "metadata": {},
   "outputs": [],
   "source": [
    "hist_games = flatmap(lambda x: get_game_for_team(x[1], x[0], x[2], history_url, unwrap) ,flatmap(lambda x: get_all_periods(x[0], x[1]), hist_teams.values))"
   ]
  },
  {
   "cell_type": "code",
   "execution_count": 35,
   "metadata": {},
   "outputs": [],
   "source": [
    "hist_players = list(map(get_player_data, hist_games))\n",
    "hist_players_df = pd.DataFrame(hist_players, columns=['name', 'position_id', 'week', 'year', 'team_id', 'status', 'points', 'slots', 'player_id'])"
   ]
  },
  {
   "cell_type": "code",
   "execution_count": 36,
   "metadata": {},
   "outputs": [
    {
     "data": {
      "text/html": [
       "<div>\n",
       "<style scoped>\n",
       "    .dataframe tbody tr th:only-of-type {\n",
       "        vertical-align: middle;\n",
       "    }\n",
       "\n",
       "    .dataframe tbody tr th {\n",
       "        vertical-align: top;\n",
       "    }\n",
       "\n",
       "    .dataframe thead th {\n",
       "        text-align: right;\n",
       "    }\n",
       "</style>\n",
       "<table border=\"1\" class=\"dataframe\">\n",
       "  <thead>\n",
       "    <tr style=\"text-align: right;\">\n",
       "      <th></th>\n",
       "      <th>name</th>\n",
       "      <th>position_id</th>\n",
       "      <th>week</th>\n",
       "      <th>year</th>\n",
       "      <th>team_id</th>\n",
       "      <th>status</th>\n",
       "      <th>points</th>\n",
       "      <th>slots</th>\n",
       "      <th>player_id</th>\n",
       "    </tr>\n",
       "  </thead>\n",
       "  <tbody>\n",
       "    <tr>\n",
       "      <th>0</th>\n",
       "      <td>Michael Thomas</td>\n",
       "      <td>4</td>\n",
       "      <td>1</td>\n",
       "      <td>2019</td>\n",
       "      <td>1</td>\n",
       "      <td>ACTIVE</td>\n",
       "      <td>24.3</td>\n",
       "      <td>[3, 4, 5, 23, 7, 20, 21]</td>\n",
       "      <td>2976316</td>\n",
       "    </tr>\n",
       "    <tr>\n",
       "      <th>1</th>\n",
       "      <td>Melvin Gordon</td>\n",
       "      <td>2</td>\n",
       "      <td>1</td>\n",
       "      <td>2019</td>\n",
       "      <td>1</td>\n",
       "      <td>ACTIVE</td>\n",
       "      <td>0.0</td>\n",
       "      <td>[2, 3, 23, 7, 20, 21]</td>\n",
       "      <td>2576434</td>\n",
       "    </tr>\n",
       "    <tr>\n",
       "      <th>2</th>\n",
       "      <td>Marlon Mack</td>\n",
       "      <td>2</td>\n",
       "      <td>1</td>\n",
       "      <td>2019</td>\n",
       "      <td>1</td>\n",
       "      <td>ACTIVE</td>\n",
       "      <td>34.4</td>\n",
       "      <td>[2, 3, 23, 7, 20, 21]</td>\n",
       "      <td>3139605</td>\n",
       "    </tr>\n",
       "    <tr>\n",
       "      <th>3</th>\n",
       "      <td>Allen Robinson II</td>\n",
       "      <td>4</td>\n",
       "      <td>1</td>\n",
       "      <td>2019</td>\n",
       "      <td>1</td>\n",
       "      <td>ACTIVE</td>\n",
       "      <td>19.2</td>\n",
       "      <td>[3, 4, 5, 23, 7, 20, 21]</td>\n",
       "      <td>16799</td>\n",
       "    </tr>\n",
       "    <tr>\n",
       "      <th>4</th>\n",
       "      <td>49ers D/ST</td>\n",
       "      <td>16</td>\n",
       "      <td>1</td>\n",
       "      <td>2019</td>\n",
       "      <td>1</td>\n",
       "      <td>NA</td>\n",
       "      <td>35.0</td>\n",
       "      <td>[16, 20, 21]</td>\n",
       "      <td>-16025</td>\n",
       "    </tr>\n",
       "  </tbody>\n",
       "</table>\n",
       "</div>"
      ],
      "text/plain": [
       "                name  position_id  week  year  team_id  status  points  \\\n",
       "0     Michael Thomas            4     1  2019        1  ACTIVE    24.3   \n",
       "1      Melvin Gordon            2     1  2019        1  ACTIVE     0.0   \n",
       "2        Marlon Mack            2     1  2019        1  ACTIVE    34.4   \n",
       "3  Allen Robinson II            4     1  2019        1  ACTIVE    19.2   \n",
       "4         49ers D/ST           16     1  2019        1      NA    35.0   \n",
       "\n",
       "                      slots  player_id  \n",
       "0  [3, 4, 5, 23, 7, 20, 21]    2976316  \n",
       "1     [2, 3, 23, 7, 20, 21]    2576434  \n",
       "2     [2, 3, 23, 7, 20, 21]    3139605  \n",
       "3  [3, 4, 5, 23, 7, 20, 21]      16799  \n",
       "4              [16, 20, 21]     -16025  "
      ]
     },
     "execution_count": 36,
     "metadata": {},
     "output_type": "execute_result"
    }
   ],
   "source": [
    "hist_players_df.head()"
   ]
  },
  {
   "cell_type": "code",
   "execution_count": 37,
   "metadata": {},
   "outputs": [],
   "source": [
    "for y in hist_players_df[\"year\"].unique():\n",
    "    hist_players_df.loc[hist_players_df[\"year\"] == y].to_csv(\"players_{}.csv\".format(y))"
   ]
  }
 ],
 "metadata": {
  "kernelspec": {
   "display_name": "Python 3.8.5 64-bit ('espnff': conda)",
   "metadata": {
    "interpreter": {
     "hash": "725a7a549c8fe2c8b62f3d6e29d11a184353712ab997fd0ae6ae1a6b50d0eb6e"
    }
   },
   "name": "python3"
  },
  "language_info": {
   "codemirror_mode": {
    "name": "ipython",
    "version": 3
   },
   "file_extension": ".py",
   "mimetype": "text/x-python",
   "name": "python",
   "nbconvert_exporter": "python",
   "pygments_lexer": "ipython3",
   "version": "3.8.10"
  },
  "orig_nbformat": 2
 },
 "nbformat": 4,
 "nbformat_minor": 2
}
