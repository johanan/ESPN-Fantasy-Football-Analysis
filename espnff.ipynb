{
 "metadata": {
  "language_info": {
   "codemirror_mode": {
    "name": "ipython",
    "version": 3
   },
   "file_extension": ".py",
   "mimetype": "text/x-python",
   "name": "python",
   "nbconvert_exporter": "python",
   "pygments_lexer": "ipython3",
   "version": "3.8.5-final"
  },
  "orig_nbformat": 2,
  "kernelspec": {
   "name": "python3",
   "display_name": "Python 3.8.5 64-bit ('espnff': conda)",
   "metadata": {
    "interpreter": {
     "hash": "725a7a549c8fe2c8b62f3d6e29d11a184353712ab997fd0ae6ae1a6b50d0eb6e"
    }
   }
  }
 },
 "nbformat": 4,
 "nbformat_minor": 2,
 "cells": [
  {
   "cell_type": "code",
   "execution_count": 1,
   "metadata": {},
   "outputs": [],
   "source": [
    "import requests\n",
    "import pandas as pd\n",
    "import json\n",
    "from dotenv import load_dotenv\n",
    "\n",
    "load_dotenv()\n",
    "league_id = 91606\n",
    "url = \"https://fantasy.espn.com/apis/v3/games/ffl/seasons/2020/segments/0/leagues/{}\".format(league_id)\n",
    "cookies = {\n",
    "        \"swid\": os.getenv('swid'),\n",
    "        \"espn_s2\": os.getenv('espn_s2')\n",
    "    }\n"
   ]
  },
  {
   "cell_type": "code",
   "execution_count": 2,
   "metadata": {},
   "outputs": [],
   "source": [
    "games_r = requests.get(url,\n",
    "params={\"view\": \"mMatchup\"},\n",
    "    cookies=cookies)\n",
    "schedule = games_r.json()[\"schedule\"]\n"
   ]
  },
  {
   "cell_type": "code",
   "execution_count": 3,
   "metadata": {},
   "outputs": [
    {
     "output_type": "execute_result",
     "data": {
      "text/plain": [
       "   Week  Team1  Score1  Team2  Score2\n",
       "0     1      1   139.0     13   109.6\n",
       "1     1     12   146.8      9   122.8\n",
       "2     1     16   129.4      3   129.5\n",
       "3     1     10   142.3     15   167.0\n",
       "4     1      7   145.3     17   110.7"
      ],
      "text/html": "<div>\n<style scoped>\n    .dataframe tbody tr th:only-of-type {\n        vertical-align: middle;\n    }\n\n    .dataframe tbody tr th {\n        vertical-align: top;\n    }\n\n    .dataframe thead th {\n        text-align: right;\n    }\n</style>\n<table border=\"1\" class=\"dataframe\">\n  <thead>\n    <tr style=\"text-align: right;\">\n      <th></th>\n      <th>Week</th>\n      <th>Team1</th>\n      <th>Score1</th>\n      <th>Team2</th>\n      <th>Score2</th>\n    </tr>\n  </thead>\n  <tbody>\n    <tr>\n      <th>0</th>\n      <td>1</td>\n      <td>1</td>\n      <td>139.0</td>\n      <td>13</td>\n      <td>109.6</td>\n    </tr>\n    <tr>\n      <th>1</th>\n      <td>1</td>\n      <td>12</td>\n      <td>146.8</td>\n      <td>9</td>\n      <td>122.8</td>\n    </tr>\n    <tr>\n      <th>2</th>\n      <td>1</td>\n      <td>16</td>\n      <td>129.4</td>\n      <td>3</td>\n      <td>129.5</td>\n    </tr>\n    <tr>\n      <th>3</th>\n      <td>1</td>\n      <td>10</td>\n      <td>142.3</td>\n      <td>15</td>\n      <td>167.0</td>\n    </tr>\n    <tr>\n      <th>4</th>\n      <td>1</td>\n      <td>7</td>\n      <td>145.3</td>\n      <td>17</td>\n      <td>110.7</td>\n    </tr>\n  </tbody>\n</table>\n</div>"
     },
     "metadata": {},
     "execution_count": 3
    }
   ],
   "source": [
    "games_df = pd.DataFrame([[game[\"matchupPeriodId\"], \n",
    "game[\"home\"][\"teamId\"], game[\"home\"][\"totalPoints\"],\n",
    "game[\"away\"][\"teamId\"], game[\"away\"][\"totalPoints\"],] for game in schedule],\n",
    "    columns=['Week', 'Team1', 'Score1', 'Team2', 'Score2'])\n",
    "games_df.head()"
   ]
  },
  {
   "cell_type": "code",
   "execution_count": 4,
   "metadata": {},
   "outputs": [
    {
     "output_type": "execute_result",
     "data": {
      "text/plain": [
       "   Week  Team1  Score1  Team2  Score2  Margin1  Margin2\n",
       "0     1      1   139.0     13   109.6     29.4    -29.4\n",
       "1     1     12   146.8      9   122.8     24.0    -24.0\n",
       "2     1     16   129.4      3   129.5     -0.1      0.1\n",
       "3     1     10   142.3     15   167.0    -24.7     24.7\n",
       "4     1      7   145.3     17   110.7     34.6    -34.6"
      ],
      "text/html": "<div>\n<style scoped>\n    .dataframe tbody tr th:only-of-type {\n        vertical-align: middle;\n    }\n\n    .dataframe tbody tr th {\n        vertical-align: top;\n    }\n\n    .dataframe thead th {\n        text-align: right;\n    }\n</style>\n<table border=\"1\" class=\"dataframe\">\n  <thead>\n    <tr style=\"text-align: right;\">\n      <th></th>\n      <th>Week</th>\n      <th>Team1</th>\n      <th>Score1</th>\n      <th>Team2</th>\n      <th>Score2</th>\n      <th>Margin1</th>\n      <th>Margin2</th>\n    </tr>\n  </thead>\n  <tbody>\n    <tr>\n      <th>0</th>\n      <td>1</td>\n      <td>1</td>\n      <td>139.0</td>\n      <td>13</td>\n      <td>109.6</td>\n      <td>29.4</td>\n      <td>-29.4</td>\n    </tr>\n    <tr>\n      <th>1</th>\n      <td>1</td>\n      <td>12</td>\n      <td>146.8</td>\n      <td>9</td>\n      <td>122.8</td>\n      <td>24.0</td>\n      <td>-24.0</td>\n    </tr>\n    <tr>\n      <th>2</th>\n      <td>1</td>\n      <td>16</td>\n      <td>129.4</td>\n      <td>3</td>\n      <td>129.5</td>\n      <td>-0.1</td>\n      <td>0.1</td>\n    </tr>\n    <tr>\n      <th>3</th>\n      <td>1</td>\n      <td>10</td>\n      <td>142.3</td>\n      <td>15</td>\n      <td>167.0</td>\n      <td>-24.7</td>\n      <td>24.7</td>\n    </tr>\n    <tr>\n      <th>4</th>\n      <td>1</td>\n      <td>7</td>\n      <td>145.3</td>\n      <td>17</td>\n      <td>110.7</td>\n      <td>34.6</td>\n      <td>-34.6</td>\n    </tr>\n  </tbody>\n</table>\n</div>"
     },
     "metadata": {},
     "execution_count": 4
    }
   ],
   "source": [
    "game_margin_df = games_df.assign(Margin1 = games_df[\"Score1\"] - games_df[\"Score2\"],\n",
    "    Margin2 = games_df[\"Score2\"] - games_df[\"Score1\"])\n",
    "game_margin_df.head()"
   ]
  },
  {
   "cell_type": "code",
   "execution_count": 5,
   "metadata": {},
   "outputs": [],
   "source": [
    "g_flattened = (game_margin_df[['Week', 'Team1', 'Margin1', 'Score1']]\n",
    "    .rename(columns={'Team1': 'Team', 'Score1': 'Score', 'Margin1': 'Margin'})\n",
    "    .append(game_margin_df[['Week', 'Team2', 'Margin2', 'Score2']]\n",
    "    .rename(columns={'Team2': 'Team', 'Score2': 'Score', 'Margin2': 'Margin'})\n",
    "    ))\n",
    "\n",
    "g_flattened.to_csv(\"games.csv\")"
   ]
  }
 ]
}