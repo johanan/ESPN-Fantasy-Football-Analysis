{
 "cells": [
  {
   "cell_type": "markdown",
   "metadata": {},
   "source": [
    "# The Fluties\n",
    "Here is a statiscial analysis of the last season."
   ]
  },
  {
   "cell_type": "code",
   "execution_count": 1,
   "metadata": {},
   "outputs": [],
   "source": [
    "import os\n",
    "import pandas as pd\n",
    "import numpy as np\n",
    "\n",
    "import matplotlib\n",
    "import matplotlib.pyplot as plt\n",
    "\n",
    "import scipy\n",
    "from scipy import stats\n",
    "import statsmodels.api as sm\n",
    "from sklearn import linear_model\n",
    "from dotenv import load_dotenv\n",
    "\n",
    "load_dotenv()\n",
    "current_year = int(os.getenv('current_year'))\n",
    "full_teams = pd.read_csv(\"processed_teams.csv\")\n",
    "teams = full_teams.loc[full_teams[\"year\"] == current_year]"
   ]
  },
  {
   "cell_type": "markdown",
   "metadata": {},
   "source": [
    "## Final Regular Season Standings\n",
    "Here is the league ordered by Playoff seed. The order is determined first by division winners and then by record. This explains the 6-7 team that is the #4 seed. This is the core data that we will use to find the correlation between points for, points against, and wins.\n",
    "\n",
    "The hypothesis is that the more points you score and the more active you are with your roster the more wins you will have. These are two of the main things that you actively and directly control."
   ]
  },
  {
   "cell_type": "code",
   "execution_count": 2,
   "metadata": {},
   "outputs": [
    {
     "data": {
      "text/html": [
       "<div>\n",
       "<style scoped>\n",
       "    .dataframe tbody tr th:only-of-type {\n",
       "        vertical-align: middle;\n",
       "    }\n",
       "\n",
       "    .dataframe tbody tr th {\n",
       "        vertical-align: top;\n",
       "    }\n",
       "\n",
       "    .dataframe thead th {\n",
       "        text-align: right;\n",
       "    }\n",
       "</style>\n",
       "<table border=\"1\" class=\"dataframe\">\n",
       "  <thead>\n",
       "    <tr style=\"text-align: right;\">\n",
       "      <th></th>\n",
       "      <th>abbrev</th>\n",
       "      <th>location</th>\n",
       "      <th>nickname</th>\n",
       "      <th>record.overall.wins</th>\n",
       "      <th>record.overall.losses</th>\n",
       "      <th>playoffSeed</th>\n",
       "      <th>record.overall.pointsFor</th>\n",
       "      <th>record.overall.pointsAgainst</th>\n",
       "      <th>transactionCounter.moveToActive</th>\n",
       "    </tr>\n",
       "  </thead>\n",
       "  <tbody>\n",
       "    <tr>\n",
       "      <th>119</th>\n",
       "      <td>NPZ</td>\n",
       "      <td>No</td>\n",
       "      <td>Phly Zone</td>\n",
       "      <td>11</td>\n",
       "      <td>3</td>\n",
       "      <td>1</td>\n",
       "      <td>2116.6</td>\n",
       "      <td>1824.2</td>\n",
       "      <td>34</td>\n",
       "    </tr>\n",
       "    <tr>\n",
       "      <th>79</th>\n",
       "      <td>2021</td>\n",
       "      <td>This Is</td>\n",
       "      <td>My Year</td>\n",
       "      <td>10</td>\n",
       "      <td>4</td>\n",
       "      <td>2</td>\n",
       "      <td>1939.5</td>\n",
       "      <td>1683.2</td>\n",
       "      <td>47</td>\n",
       "    </tr>\n",
       "    <tr>\n",
       "      <th>59</th>\n",
       "      <td>BD</td>\n",
       "      <td>Home</td>\n",
       "      <td>Broke Down</td>\n",
       "      <td>9</td>\n",
       "      <td>5</td>\n",
       "      <td>3</td>\n",
       "      <td>2029.1</td>\n",
       "      <td>1783.3</td>\n",
       "      <td>66</td>\n",
       "    </tr>\n",
       "    <tr>\n",
       "      <th>109</th>\n",
       "      <td>BMT</td>\n",
       "      <td>Bad</td>\n",
       "      <td>Mother Tucker</td>\n",
       "      <td>8</td>\n",
       "      <td>6</td>\n",
       "      <td>4</td>\n",
       "      <td>1985.7</td>\n",
       "      <td>1948.7</td>\n",
       "      <td>62</td>\n",
       "    </tr>\n",
       "    <tr>\n",
       "      <th>9</th>\n",
       "      <td>Caw</td>\n",
       "      <td>Birds</td>\n",
       "      <td>Of War</td>\n",
       "      <td>8</td>\n",
       "      <td>6</td>\n",
       "      <td>5</td>\n",
       "      <td>2064.3</td>\n",
       "      <td>1765.6</td>\n",
       "      <td>47</td>\n",
       "    </tr>\n",
       "    <tr>\n",
       "      <th>69</th>\n",
       "      <td>Rock</td>\n",
       "      <td>Joe</td>\n",
       "      <td>Momma</td>\n",
       "      <td>7</td>\n",
       "      <td>7</td>\n",
       "      <td>6</td>\n",
       "      <td>1816.7</td>\n",
       "      <td>1842.4</td>\n",
       "      <td>31</td>\n",
       "    </tr>\n",
       "    <tr>\n",
       "      <th>89</th>\n",
       "      <td>faq</td>\n",
       "      <td>hot chubb</td>\n",
       "      <td>time machine</td>\n",
       "      <td>7</td>\n",
       "      <td>7</td>\n",
       "      <td>7</td>\n",
       "      <td>1783.2</td>\n",
       "      <td>1859.3</td>\n",
       "      <td>77</td>\n",
       "    </tr>\n",
       "    <tr>\n",
       "      <th>19</th>\n",
       "      <td>TOTY</td>\n",
       "      <td>Lizard</td>\n",
       "      <td>Person</td>\n",
       "      <td>7</td>\n",
       "      <td>7</td>\n",
       "      <td>8</td>\n",
       "      <td>1901.1</td>\n",
       "      <td>1934.5</td>\n",
       "      <td>54</td>\n",
       "    </tr>\n",
       "    <tr>\n",
       "      <th>29</th>\n",
       "      <td>Sith</td>\n",
       "      <td>Lock</td>\n",
       "      <td>Out</td>\n",
       "      <td>5</td>\n",
       "      <td>9</td>\n",
       "      <td>9</td>\n",
       "      <td>1605.7</td>\n",
       "      <td>1791.6</td>\n",
       "      <td>29</td>\n",
       "    </tr>\n",
       "    <tr>\n",
       "      <th>49</th>\n",
       "      <td>Mill</td>\n",
       "      <td>Circus Circus</td>\n",
       "      <td>ðª</td>\n",
       "      <td>5</td>\n",
       "      <td>9</td>\n",
       "      <td>10</td>\n",
       "      <td>1622.7</td>\n",
       "      <td>1809.5</td>\n",
       "      <td>32</td>\n",
       "    </tr>\n",
       "    <tr>\n",
       "      <th>39</th>\n",
       "      <td>TMB</td>\n",
       "      <td>Will ❤ the</td>\n",
       "      <td>Demigorgon</td>\n",
       "      <td>4</td>\n",
       "      <td>10</td>\n",
       "      <td>11</td>\n",
       "      <td>1588.3</td>\n",
       "      <td>1931.4</td>\n",
       "      <td>0</td>\n",
       "    </tr>\n",
       "    <tr>\n",
       "      <th>99</th>\n",
       "      <td>JJJ</td>\n",
       "      <td>Tua</td>\n",
       "      <td>Hearts</td>\n",
       "      <td>3</td>\n",
       "      <td>11</td>\n",
       "      <td>12</td>\n",
       "      <td>1768.0</td>\n",
       "      <td>2047.2</td>\n",
       "      <td>20</td>\n",
       "    </tr>\n",
       "  </tbody>\n",
       "</table>\n",
       "</div>"
      ],
      "text/plain": [
       "    abbrev       location       nickname  record.overall.wins  \\\n",
       "119    NPZ             No      Phly Zone                   11   \n",
       "79    2021        This Is        My Year                   10   \n",
       "59      BD           Home     Broke Down                    9   \n",
       "109    BMT            Bad  Mother Tucker                    8   \n",
       "9      Caw         Birds          Of War                    8   \n",
       "69    Rock            Joe          Momma                    7   \n",
       "89     faq      hot chubb  time machine                     7   \n",
       "19    TOTY         Lizard         Person                    7   \n",
       "29    Sith          Lock             Out                    5   \n",
       "49    Mill  Circus Circus           ðª                    5   \n",
       "39     TMB     Will ❤ the     Demigorgon                    4   \n",
       "99     JJJ            Tua         Hearts                    3   \n",
       "\n",
       "     record.overall.losses  playoffSeed  record.overall.pointsFor  \\\n",
       "119                      3            1                    2116.6   \n",
       "79                       4            2                    1939.5   \n",
       "59                       5            3                    2029.1   \n",
       "109                      6            4                    1985.7   \n",
       "9                        6            5                    2064.3   \n",
       "69                       7            6                    1816.7   \n",
       "89                       7            7                    1783.2   \n",
       "19                       7            8                    1901.1   \n",
       "29                       9            9                    1605.7   \n",
       "49                       9           10                    1622.7   \n",
       "39                      10           11                    1588.3   \n",
       "99                      11           12                    1768.0   \n",
       "\n",
       "     record.overall.pointsAgainst  transactionCounter.moveToActive  \n",
       "119                        1824.2                               34  \n",
       "79                         1683.2                               47  \n",
       "59                         1783.3                               66  \n",
       "109                        1948.7                               62  \n",
       "9                          1765.6                               47  \n",
       "69                         1842.4                               31  \n",
       "89                         1859.3                               77  \n",
       "19                         1934.5                               54  \n",
       "29                         1791.6                               29  \n",
       "49                         1809.5                               32  \n",
       "39                         1931.4                                0  \n",
       "99                         2047.2                               20  "
      ]
     },
     "execution_count": 2,
     "metadata": {},
     "output_type": "execute_result"
    }
   ],
   "source": [
    "teams[[\"abbrev\", \"location\", \"nickname\", \"record.overall.wins\", \"record.overall.losses\", \"playoffSeed\", \"record.overall.pointsFor\", \"record.overall.pointsAgainst\", \"transactionCounter.moveToActive\"]].sort_values(\"playoffSeed\").head(12)"
   ]
  },
  {
   "cell_type": "markdown",
   "metadata": {},
   "source": [
    "## Statiscal Analysis of Points For and Against\n",
    "\n",
    "A quick peek to understand the where all the teams fall in the context of the league.\n",
    "\n",
    "Some quick observations:\n",
    "- The variance of points against is a lot tighter than points for.\n",
    "- The exception being MAGA which by far and away an outlier with 1912 points against.\n",
    "- MAGA and TWS both are the two lowest scoring and highest points against teams. "
   ]
  },
  {
   "cell_type": "code",
   "execution_count": 3,
   "metadata": {},
   "outputs": [
    {
     "data": {
      "text/plain": [
       "count      12.000000\n",
       "mean     1851.741667\n",
       "std       183.453291\n",
       "min      1588.300000\n",
       "25%      1731.675000\n",
       "50%      1858.900000\n",
       "75%      1996.550000\n",
       "max      2116.600000\n",
       "Name: record.overall.pointsFor, dtype: float64"
      ]
     },
     "execution_count": 3,
     "metadata": {},
     "output_type": "execute_result"
    }
   ],
   "source": [
    "teams[\"record.overall.pointsFor\"].describe()"
   ]
  },
  {
   "cell_type": "code",
   "execution_count": 4,
   "metadata": {},
   "outputs": [
    {
     "data": {
      "text/plain": [
       "count      12.000000\n",
       "mean     1851.741667\n",
       "std        98.909752\n",
       "min      1683.200000\n",
       "25%      1789.525000\n",
       "50%      1833.300000\n",
       "75%      1932.175000\n",
       "max      2047.200000\n",
       "Name: record.overall.pointsAgainst, dtype: float64"
      ]
     },
     "execution_count": 4,
     "metadata": {},
     "output_type": "execute_result"
    }
   ],
   "source": [
    "teams[\"record.overall.pointsAgainst\"].describe()"
   ]
  },
  {
   "cell_type": "code",
   "execution_count": 6,
   "metadata": {},
   "outputs": [
    {
     "data": {
      "image/png": "[encoded data removed]",
      "text/plain": [
       "<Figure size 864x432 with 1 Axes>"
      ]
     },
     "metadata": {
      "needs_background": "light"
     },
     "output_type": "display_data"
    }
   ],
   "source": [
    "ax = teams.boxplot(column=[\"scaled_pointsAgainst\", \"scaled_pointsFor\"], figsize=(12,6))\n",
    "for index, t in teams.iterrows():\n",
    "    y = t[\"scaled_pointsFor\"]\n",
    "    x = np.random.normal(2, 0.04)\n",
    "    ax.plot(x, y, 'k.', alpha=0.75)\n",
    "    ax.text(x, y, t[\"abbrev\"])\n",
    "    y_for = t[\"scaled_pointsAgainst\"]\n",
    "    x_for = np.random.normal(1, 0.04)\n",
    "    ax.plot(x_for, y_for, 'r.', alpha=0.75)\n",
    "    ax.text(x_for, y_for, t[\"abbrev\"])"
   ]
  },
  {
   "cell_type": "markdown",
   "metadata": {},
   "source": [
    "## Grouped by Division\n",
    "\n",
    "This is the same data, but now grouped by each division.\n",
    "\n",
    "The main thing I see here is that division 1 is far below the the other divisions. The highest scoring team would be third in every other division. Essentially it is the NFC East."
   ]
  },
  {
   "cell_type": "code",
   "execution_count": 7,
   "metadata": {},
   "outputs": [
    {
     "data": {
      "image/png": "[encoded data removed]",
      "text/plain": [
       "<Figure size 864x432 with 2 Axes>"
      ]
     },
     "metadata": {
      "needs_background": "light"
     },
     "output_type": "display_data"
    }
   ],
   "source": [
    "ax = teams.boxplot(column=[\"scaled_pointsAgainst\", \"scaled_pointsFor\"], by=\"divisionId\", figsize=(12,6))\n",
    "for index, t in teams[[\"scaled_pointsFor\", \"scaled_pointsAgainst\", \"abbrev\", \"divisionId\"]].iterrows():\n",
    "    y = t[\"scaled_pointsAgainst\"]\n",
    "    yfor = t[\"scaled_pointsFor\"]\n",
    "    x = np.random.normal(t[\"divisionId\"]+1, 0.05)\n",
    "    ax[0].plot(x, y, 'r.', alpha=0.75)\n",
    "    ax[0].text(x, y, t[\"abbrev\"])\n",
    "    ax[1].plot(x, yfor, 'k.', alpha=0.75)\n",
    "    ax[1].text(x, yfor, t[\"abbrev\"])"
   ]
  },
  {
   "cell_type": "markdown",
   "metadata": {},
   "source": [
    "## Regression Analytics\n",
    "\n",
    "The next step is to just do some linear regression on wins with the relationship to points for, points against, and move to active (activations in your roster).\n",
    "\n",
    "The relationship of wins to points for is strong. This intuitively makes sense. The more points you score the more wins you should have. \n",
    "\n",
    "Points against is negatively correlated with wins. Which again makes sense, but it is much weaker. \n",
    "\n",
    "Move to action is a positive relationship and pretty weak. "
   ]
  },
  {
   "cell_type": "code",
   "execution_count": 8,
   "metadata": {},
   "outputs": [],
   "source": [
    "for_mod = sm.OLS(teams['record.overall.wins'], sm.add_constant(teams['record.overall.pointsFor']))\n",
    "for_res = for_mod.fit()\n",
    "\n",
    "against_mod = sm.OLS(teams['record.overall.wins'], sm.add_constant(teams['record.overall.pointsAgainst']))\n",
    "against_res = against_mod.fit()\n",
    "\n",
    "moves_mod = sm.OLS(teams['record.overall.wins'], sm.add_constant(teams['transactionCounter.moveToActive']))\n",
    "moves_res = moves_mod.fit()"
   ]
  },
  {
   "cell_type": "code",
   "execution_count": 9,
   "metadata": {},
   "outputs": [
    {
     "data": {
      "text/plain": [
       "0.7092787050116356"
      ]
     },
     "execution_count": 9,
     "metadata": {},
     "output_type": "execute_result"
    }
   ],
   "source": [
    "for_res.rsquared"
   ]
  },
  {
   "cell_type": "code",
   "execution_count": 10,
   "metadata": {},
   "outputs": [
    {
     "data": {
      "text/plain": [
       "0.3523938096455149"
      ]
     },
     "execution_count": 10,
     "metadata": {},
     "output_type": "execute_result"
    }
   ],
   "source": [
    "against_res.rsquared"
   ]
  },
  {
   "cell_type": "code",
   "execution_count": 11,
   "metadata": {},
   "outputs": [
    {
     "data": {
      "text/plain": [
       "0.30623660838417377"
      ]
     },
     "execution_count": 11,
     "metadata": {},
     "output_type": "execute_result"
    }
   ],
   "source": [
    "moves_res.rsquared"
   ]
  },
  {
   "cell_type": "markdown",
   "metadata": {},
   "source": [
    "## Plotted Charts\n",
    "\n",
    "We can now visualize the correlation between each of points for, points against, and moves.\n",
    "\n",
    "Notice how close all the points are to the fitted line for points for. The other two charts definitely show that they are correlated, but there is more variance.\n",
    "\n",
    "The teams that are above the line have more wins than each model would predict. The perfect teams to look at are TMB, #50%, and No. All these teams have 7 wins, but vastly different points for, points against, and moves. \n",
    "\n",
    "This is also clear if you look vertically at 1600 points for. Scoring that many points will get you anywhere between 4-7 wins."
   ]
  },
  {
   "cell_type": "code",
   "execution_count": 12,
   "metadata": {},
   "outputs": [
    {
     "data": {
      "image/png": "[encoded data removed]",
      "text/plain": [
       "<Figure size 1440x576 with 3 Axes>"
      ]
     },
     "metadata": {
      "needs_background": "light"
     },
     "output_type": "display_data"
    }
   ],
   "source": [
    "def regress_plot(slope, intercept, x, y, plt):\n",
    "    plt.plot(x, y, 'o', markersize=5)\n",
    "\n",
    "    plt.plot(x, slope*x + intercept, 'r')\n",
    "    \n",
    "fig, ax = plt.subplots(nrows=1, ncols=3, figsize=(20,8))\n",
    "regress_plot(for_res.params[1], for_res.params[0], teams['record.overall.pointsFor'], teams['record.overall.wins'], ax[0])\n",
    "regress_plot(against_res.params[1], against_res.params[0], teams['record.overall.pointsAgainst'], teams['record.overall.wins'], ax[1])\n",
    "regress_plot(moves_res.params[1], moves_res.params[0], teams['transactionCounter.moveToActive'], teams['record.overall.wins'], ax[2])\n",
    "ax[0].set_xlabel('Points For')\n",
    "ax[0].set_ylabel('Wins')\n",
    "ax[1].set_xlabel('Points Against')\n",
    "ax[2].set_xlabel('Moves')\n",
    "\n",
    "\n",
    "for index, t in teams.iterrows():\n",
    "    ax[0].text(t['record.overall.pointsFor'], t['record.overall.wins'], t['abbrev'])\n",
    "    ax[1].text(t['record.overall.pointsAgainst'], t['record.overall.wins'], t['abbrev'])\n",
    "    ax[2].text(t['transactionCounter.moveToActive'], t['record.overall.wins'], t['abbrev'])"
   ]
  },
  {
   "cell_type": "markdown",
   "metadata": {},
   "source": [
    "## Multiple Variable Regression\n",
    "\n",
    "I played around with various columns to find the best fitting results. I landed on points for and points against. This has yielded R-squared of 0.853. This is pretty high. \n",
    "\n",
    "I initially had Move to Active in the regression initially and it did increase R-squared, but it reduced the statistical significance. There is a correlation with it as a single variable, but my estimation is that that significance is more than made up in the points for variable."
   ]
  },
  {
   "cell_type": "code",
   "execution_count": 13,
   "metadata": {},
   "outputs": [
    {
     "name": "stderr",
     "output_type": "stream",
     "text": [
      "/home/jjohanan/projects/ESPN-Fantasy-Football-Analysis/env/lib/python3.8/site-packages/scipy/stats/stats.py:1541: UserWarning: kurtosistest only valid for n>=20 ... continuing anyway, n=12\n",
      "  warnings.warn(\"kurtosistest only valid for n>=20 ... continuing \"\n"
     ]
    },
    {
     "data": {
      "text/html": [
       "<table class=\"simpletable\">\n",
       "<tr>\n",
       "        <td>Model:</td>                <td>OLS</td>           <td>Adj. R-squared:</td>     <td>0.841</td> \n",
       "</tr>\n",
       "<tr>\n",
       "  <td>Dependent Variable:</td> <td>record.overall.wins</td>        <td>AIC:</td>          <td>35.6612</td>\n",
       "</tr>\n",
       "<tr>\n",
       "         <td>Date:</td>         <td>2022-01-10 23:04</td>          <td>BIC:</td>          <td>37.1159</td>\n",
       "</tr>\n",
       "<tr>\n",
       "   <td>No. Observations:</td>          <td>12</td>            <td>Log-Likelihood:</td>    <td>-14.831</td>\n",
       "</tr>\n",
       "<tr>\n",
       "       <td>Df Model:</td>               <td>2</td>             <td>F-statistic:</td>       <td>30.11</td> \n",
       "</tr>\n",
       "<tr>\n",
       "     <td>Df Residuals:</td>             <td>9</td>          <td>Prob (F-statistic):</td> <td>0.000103</td>\n",
       "</tr>\n",
       "<tr>\n",
       "      <td>R-squared:</td>             <td>0.870</td>              <td>Scale:</td>         <td>0.92457</td>\n",
       "</tr>\n",
       "</table>\n",
       "<table class=\"simpletable\">\n",
       "<tr>\n",
       "                <td></td>                <th>Coef.</th>  <th>Std.Err.</th>    <th>t</th>     <th>P>|t|</th> <th>[0.025</th>  <th>0.975]</th> \n",
       "</tr>\n",
       "<tr>\n",
       "  <th>const</th>                        <td>7.6048</td>   <td>6.9785</td>  <td>1.0898</td>  <td>0.3041</td> <td>-8.1816</td> <td>23.3912</td>\n",
       "</tr>\n",
       "<tr>\n",
       "  <th>record.overall.pointsFor</th>     <td>0.0098</td>   <td>0.0016</td>  <td>5.9857</td>  <td>0.0002</td> <td>0.0061</td>  <td>0.0134</td> \n",
       "</tr>\n",
       "<tr>\n",
       "  <th>record.overall.pointsAgainst</th> <td>-0.0101</td>  <td>0.0030</td>  <td>-3.3353</td> <td>0.0087</td> <td>-0.0169</td> <td>-0.0032</td>\n",
       "</tr>\n",
       "</table>\n",
       "<table class=\"simpletable\">\n",
       "<tr>\n",
       "     <td>Omnibus:</td>     <td>4.164</td>  <td>Durbin-Watson:</td>   <td>1.737</td>\n",
       "</tr>\n",
       "<tr>\n",
       "  <td>Prob(Omnibus):</td>  <td>0.125</td> <td>Jarque-Bera (JB):</td> <td>1.952</td>\n",
       "</tr>\n",
       "<tr>\n",
       "       <td>Skew:</td>     <td>-0.981</td>     <td>Prob(JB):</td>     <td>0.377</td>\n",
       "</tr>\n",
       "<tr>\n",
       "     <td>Kurtosis:</td>    <td>3.236</td>  <td>Condition No.:</td>   <td>65914</td>\n",
       "</tr>\n",
       "</table>"
      ],
      "text/plain": [
       "<class 'statsmodels.iolib.summary2.Summary'>\n",
       "\"\"\"\n",
       "                      Results: Ordinary least squares\n",
       "============================================================================\n",
       "Model:                  OLS                   Adj. R-squared:       0.841   \n",
       "Dependent Variable:     record.overall.wins   AIC:                  35.6612 \n",
       "Date:                   2022-01-10 23:04      BIC:                  37.1159 \n",
       "No. Observations:       12                    Log-Likelihood:       -14.831 \n",
       "Df Model:               2                     F-statistic:          30.11   \n",
       "Df Residuals:           9                     Prob (F-statistic):   0.000103\n",
       "R-squared:              0.870                 Scale:                0.92457 \n",
       "----------------------------------------------------------------------------\n",
       "                              Coef.  Std.Err.    t    P>|t|   [0.025  0.975]\n",
       "----------------------------------------------------------------------------\n",
       "const                         7.6048   6.9785  1.0898 0.3041 -8.1816 23.3912\n",
       "record.overall.pointsFor      0.0098   0.0016  5.9857 0.0002  0.0061  0.0134\n",
       "record.overall.pointsAgainst -0.0101   0.0030 -3.3353 0.0087 -0.0169 -0.0032\n",
       "----------------------------------------------------------------------------\n",
       "Omnibus:                  4.164            Durbin-Watson:              1.737\n",
       "Prob(Omnibus):            0.125            Jarque-Bera (JB):           1.952\n",
       "Skew:                     -0.981           Prob(JB):                   0.377\n",
       "Kurtosis:                 3.236            Condition No.:              65914\n",
       "============================================================================\n",
       "* The condition number is large (7e+04). This might indicate\n",
       "strong multicollinearity or other numerical problems.\n",
       "\"\"\""
      ]
     },
     "execution_count": 13,
     "metadata": {},
     "output_type": "execute_result"
    }
   ],
   "source": [
    "mod = sm.OLS(teams['record.overall.wins'], sm.add_constant(teams[['record.overall.pointsFor','record.overall.pointsAgainst']]))\n",
    "res = mod.fit()\n",
    "res.summary2()"
   ]
  },
  {
   "cell_type": "markdown",
   "metadata": {},
   "source": [
    "## Correction to Wins\n",
    "\n",
    "Now that we have a linear model, with a high correlation, that includes points for and points against. We can now make predictions based on how many points the team scored and how many points the opposing team scored. \n",
    "\n",
    "The next chart shows the correction. A negative value means that the team underperformed. The model predicts more wins because the amount of points scored suggests that. Or the opposing team scored less and would predict a win. \n",
    "\n",
    "The opposite is true as well. A postive number means that the team overperformed. The team may have scored fewer points, but was matched up against a team that scored even fewer. "
   ]
  },
  {
   "cell_type": "code",
   "execution_count": 14,
   "metadata": {},
   "outputs": [
    {
     "name": "stderr",
     "output_type": "stream",
     "text": [
      "/tmp/ipykernel_10744/2659277788.py:1: SettingWithCopyWarning: \n",
      "A value is trying to be set on a copy of a slice from a DataFrame.\n",
      "Try using .loc[row_indexer,col_indexer] = value instead\n",
      "\n",
      "See the caveats in the documentation: https://pandas.pydata.org/pandas-docs/stable/user_guide/indexing.html#returning-a-view-versus-a-copy\n",
      "  teams[\"residuals\"] = res.resid\n",
      "/tmp/ipykernel_10744/2659277788.py:2: SettingWithCopyWarning: \n",
      "A value is trying to be set on a copy of a slice from a DataFrame.\n",
      "Try using .loc[row_indexer,col_indexer] = value instead\n",
      "\n",
      "See the caveats in the documentation: https://pandas.pydata.org/pandas-docs/stable/user_guide/indexing.html#returning-a-view-versus-a-copy\n",
      "  teams[\"pred_wins\"] = res.fittedvalues\n"
     ]
    },
    {
     "data": {
      "image/png": "[encoded data removed]",
      "text/plain": [
       "<Figure size 864x576 with 1 Axes>"
      ]
     },
     "metadata": {
      "needs_background": "light"
     },
     "output_type": "display_data"
    }
   ],
   "source": [
    "teams[\"residuals\"] = res.resid\n",
    "teams[\"pred_wins\"] = res.fittedvalues\n",
    "\n",
    "ax = teams[[\"residuals\", \"record.overall.wins\", \"pred_wins\", \"abbrev\"]].set_index(\"abbrev\").sort_values(\"pred_wins\").plot(kind=\"bar\", figsize=(12,8))\n",
    "for p in ax.patches:\n",
    "    ax.annotate(\"{:.2f}\".format(p.get_height()), (p.get_x() * 1.005, p.get_height() * 1.005))"
   ]
  },
  {
   "cell_type": "markdown",
   "metadata": {},
   "source": [
    "## The Predicted Standings\n",
    "\n",
    "Here we see the prediction of wins for each team based on how many points they scored and how many against. "
   ]
  },
  {
   "cell_type": "code",
   "execution_count": 15,
   "metadata": {},
   "outputs": [
    {
     "name": "stderr",
     "output_type": "stream",
     "text": [
      "/tmp/ipykernel_10744/2177470649.py:1: SettingWithCopyWarning: \n",
      "A value is trying to be set on a copy of a slice from a DataFrame.\n",
      "Try using .loc[row_indexer,col_indexer] = value instead\n",
      "\n",
      "See the caveats in the documentation: https://pandas.pydata.org/pandas-docs/stable/user_guide/indexing.html#returning-a-view-versus-a-copy\n",
      "  teams[\"pred_win%\"] = teams[\"pred_wins\"] / (teams[\"record.overall.wins\"] + teams[\"record.overall.losses\"])\n"
     ]
    },
    {
     "data": {
      "text/html": [
       "<div>\n",
       "<style scoped>\n",
       "    .dataframe tbody tr th:only-of-type {\n",
       "        vertical-align: middle;\n",
       "    }\n",
       "\n",
       "    .dataframe tbody tr th {\n",
       "        vertical-align: top;\n",
       "    }\n",
       "\n",
       "    .dataframe thead th {\n",
       "        text-align: right;\n",
       "    }\n",
       "</style>\n",
       "<table border=\"1\" class=\"dataframe\">\n",
       "  <thead>\n",
       "    <tr style=\"text-align: right;\">\n",
       "      <th></th>\n",
       "      <th>abbrev</th>\n",
       "      <th>record.overall.wins</th>\n",
       "      <th>pred_wins</th>\n",
       "      <th>pred_win%</th>\n",
       "      <th>playoffSeed</th>\n",
       "    </tr>\n",
       "  </thead>\n",
       "  <tbody>\n",
       "    <tr>\n",
       "      <th>1</th>\n",
       "      <td>Caw</td>\n",
       "      <td>8</td>\n",
       "      <td>9.941062</td>\n",
       "      <td>0.710076</td>\n",
       "      <td>5</td>\n",
       "    </tr>\n",
       "    <tr>\n",
       "      <th>2</th>\n",
       "      <td>NPZ</td>\n",
       "      <td>11</td>\n",
       "      <td>9.860484</td>\n",
       "      <td>0.704320</td>\n",
       "      <td>1</td>\n",
       "    </tr>\n",
       "    <tr>\n",
       "      <th>3</th>\n",
       "      <td>2021</td>\n",
       "      <td>10</td>\n",
       "      <td>9.554490</td>\n",
       "      <td>0.682464</td>\n",
       "      <td>2</td>\n",
       "    </tr>\n",
       "    <tr>\n",
       "      <th>4</th>\n",
       "      <td>BD</td>\n",
       "      <td>9</td>\n",
       "      <td>9.419399</td>\n",
       "      <td>0.672814</td>\n",
       "      <td>3</td>\n",
       "    </tr>\n",
       "    <tr>\n",
       "      <th>5</th>\n",
       "      <td>BMT</td>\n",
       "      <td>8</td>\n",
       "      <td>7.329156</td>\n",
       "      <td>0.523511</td>\n",
       "      <td>4</td>\n",
       "    </tr>\n",
       "    <tr>\n",
       "      <th>6</th>\n",
       "      <td>Rock</td>\n",
       "      <td>7</td>\n",
       "      <td>6.752424</td>\n",
       "      <td>0.482316</td>\n",
       "      <td>6</td>\n",
       "    </tr>\n",
       "    <tr>\n",
       "      <th>7</th>\n",
       "      <td>TOTY</td>\n",
       "      <td>7</td>\n",
       "      <td>6.647252</td>\n",
       "      <td>0.474804</td>\n",
       "      <td>8</td>\n",
       "    </tr>\n",
       "    <tr>\n",
       "      <th>8</th>\n",
       "      <td>faq</td>\n",
       "      <td>7</td>\n",
       "      <td>6.255403</td>\n",
       "      <td>0.446815</td>\n",
       "      <td>7</td>\n",
       "    </tr>\n",
       "    <tr>\n",
       "      <th>9</th>\n",
       "      <td>Sith</td>\n",
       "      <td>5</td>\n",
       "      <td>5.206744</td>\n",
       "      <td>0.371910</td>\n",
       "      <td>9</td>\n",
       "    </tr>\n",
       "    <tr>\n",
       "      <th>10</th>\n",
       "      <td>Mill</td>\n",
       "      <td>5</td>\n",
       "      <td>5.192121</td>\n",
       "      <td>0.370866</td>\n",
       "      <td>10</td>\n",
       "    </tr>\n",
       "    <tr>\n",
       "      <th>11</th>\n",
       "      <td>JJJ</td>\n",
       "      <td>3</td>\n",
       "      <td>4.213397</td>\n",
       "      <td>0.300957</td>\n",
       "      <td>12</td>\n",
       "    </tr>\n",
       "    <tr>\n",
       "      <th>12</th>\n",
       "      <td>TMB</td>\n",
       "      <td>4</td>\n",
       "      <td>3.628066</td>\n",
       "      <td>0.259148</td>\n",
       "      <td>11</td>\n",
       "    </tr>\n",
       "  </tbody>\n",
       "</table>\n",
       "</div>"
      ],
      "text/plain": [
       "   abbrev  record.overall.wins  pred_wins  pred_win%  playoffSeed\n",
       "1     Caw                    8   9.941062   0.710076            5\n",
       "2     NPZ                   11   9.860484   0.704320            1\n",
       "3    2021                   10   9.554490   0.682464            2\n",
       "4      BD                    9   9.419399   0.672814            3\n",
       "5     BMT                    8   7.329156   0.523511            4\n",
       "6    Rock                    7   6.752424   0.482316            6\n",
       "7    TOTY                    7   6.647252   0.474804            8\n",
       "8     faq                    7   6.255403   0.446815            7\n",
       "9    Sith                    5   5.206744   0.371910            9\n",
       "10   Mill                    5   5.192121   0.370866           10\n",
       "11    JJJ                    3   4.213397   0.300957           12\n",
       "12    TMB                    4   3.628066   0.259148           11"
      ]
     },
     "execution_count": 15,
     "metadata": {},
     "output_type": "execute_result"
    }
   ],
   "source": [
    "teams[\"pred_win%\"] = teams[\"pred_wins\"] / (teams[\"record.overall.wins\"] + teams[\"record.overall.losses\"])\n",
    "output = teams[[\"abbrev\", \"record.overall.wins\", \"pred_wins\", \"pred_win%\", \"playoffSeed\"]].sort_values(\"pred_win%\", ascending=False).reset_index(drop=True)\n",
    "output.index +=1\n",
    "output.head(12)"
   ]
  }
 ],
 "metadata": {
  "kernelspec": {
   "display_name": "Python 3.8.5 64-bit ('espnff': conda)",
   "metadata": {
    "interpreter": {
     "hash": "725a7a549c8fe2c8b62f3d6e29d11a184353712ab997fd0ae6ae1a6b50d0eb6e"
    }
   },
   "name": "python3"
  },
  "language_info": {
   "codemirror_mode": {
    "name": "ipython",
    "version": 3
   },
   "file_extension": ".py",
   "mimetype": "text/x-python",
   "name": "python",
   "nbconvert_exporter": "python",
   "pygments_lexer": "ipython3",
   "version": "3.8.10"
  },
  "orig_nbformat": 2
 },
 "nbformat": 4,
 "nbformat_minor": 2
}
