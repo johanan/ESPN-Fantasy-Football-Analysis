{
 "metadata": {
  "language_info": {
   "codemirror_mode": {
    "name": "ipython",
    "version": 3
   },
   "file_extension": ".py",
   "mimetype": "text/x-python",
   "name": "python",
   "nbconvert_exporter": "python",
   "pygments_lexer": "ipython3",
   "version": "3.8.5-final"
  },
  "orig_nbformat": 2,
  "kernelspec": {
   "name": "python3",
   "display_name": "Python 3.8.5 64-bit ('espnff': conda)",
   "metadata": {
    "interpreter": {
     "hash": "725a7a549c8fe2c8b62f3d6e29d11a184353712ab997fd0ae6ae1a6b50d0eb6e"
    }
   }
  }
 },
 "nbformat": 4,
 "nbformat_minor": 2,
 "cells": [
  {
   "cell_type": "code",
   "execution_count": 1,
   "metadata": {},
   "outputs": [],
   "source": [
    "import os\n",
    "import requests\n",
    "import pandas as pd\n",
    "import json\n",
    "import glob\n",
    "\n",
    "from dotenv import load_dotenv\n",
    "\n",
    "from functools import reduce\n",
    "\n",
    "from sklearn.preprocessing import StandardScaler\n"
   ]
  },
  {
   "cell_type": "code",
   "execution_count": 2,
   "metadata": {},
   "outputs": [],
   "source": [
    "load_dotenv()\n",
    "files = glob.glob(\"players_*.csv\")\n",
    "players = pd.concat((pd.read_csv(f) for f in files))\n",
    "players[\"slots\"] = players[\"slots\"].apply(json.loads)"
   ]
  },
  {
   "cell_type": "code",
   "execution_count": 3,
   "metadata": {
    "tags": []
   },
   "outputs": [],
   "source": [
    "def best_score(group):\n",
    "    scores = [tuple(x) for x in group.sort_values(\"points\", ascending=False)[[\"points\", \"slots\", \"player_id\"]].values]\n",
    "    positions = [0, 2, 2, 4, 4, 6, 23, 16, 17]\n",
    "    used = []\n",
    "    best = []\n",
    "    for pos in positions:\n",
    "        find = list(filter(lambda x: pos in x[1] and x[2] not in used, scores))\n",
    "        if len(find) > 0:\n",
    "            used.append(find[0][2])\n",
    "            best.append(find[0][0])\n",
    "    return pd.Series({\"best\": sum(best)})\n",
    "    \n",
    "best = players.groupby([\"year\", \"week\", \"team_id\"]).apply(best_score)"
   ]
  },
  {
   "cell_type": "code",
   "execution_count": 4,
   "metadata": {},
   "outputs": [
    {
     "output_type": "execute_result",
     "data": {
      "text/plain": [
       "year  week  team_id\n",
       "2018  0     17           0.0\n",
       "      1     1          143.6\n",
       "            2          157.7\n",
       "            3          142.0\n",
       "            7          190.8\n",
       "                       ...  \n",
       "2020  13    13         178.5\n",
       "            15         305.0\n",
       "            16         245.7\n",
       "            17         221.0\n",
       "            18         162.5\n",
       "Name: points, Length: 482, dtype: float64"
      ]
     },
     "metadata": {},
     "execution_count": 4
    }
   ],
   "source": [
    "actual = players[~players[\"position_id\"].isin([20,21])].groupby([\"year\", \"week\", \"team_id\"])[\"points\"].sum()\n",
    "actual"
   ]
  },
  {
   "cell_type": "code",
   "execution_count": 5,
   "metadata": {},
   "outputs": [
    {
     "output_type": "execute_result",
     "data": {
      "text/plain": [
       "   year  week  team_id  points   best  diff\n",
       "0  2018     0       17     0.0    0.0   0.0\n",
       "1  2018     1        1   143.6  191.8 -48.2\n",
       "2  2018     1        2   157.7  180.9 -23.2\n",
       "3  2018     1        3   142.0  163.3 -21.3\n",
       "4  2018     1        7   190.8  241.5 -50.7"
      ],
      "text/html": "<div>\n<style scoped>\n    .dataframe tbody tr th:only-of-type {\n        vertical-align: middle;\n    }\n\n    .dataframe tbody tr th {\n        vertical-align: top;\n    }\n\n    .dataframe thead th {\n        text-align: right;\n    }\n</style>\n<table border=\"1\" class=\"dataframe\">\n  <thead>\n    <tr style=\"text-align: right;\">\n      <th></th>\n      <th>year</th>\n      <th>week</th>\n      <th>team_id</th>\n      <th>points</th>\n      <th>best</th>\n      <th>diff</th>\n    </tr>\n  </thead>\n  <tbody>\n    <tr>\n      <th>0</th>\n      <td>2018</td>\n      <td>0</td>\n      <td>17</td>\n      <td>0.0</td>\n      <td>0.0</td>\n      <td>0.0</td>\n    </tr>\n    <tr>\n      <th>1</th>\n      <td>2018</td>\n      <td>1</td>\n      <td>1</td>\n      <td>143.6</td>\n      <td>191.8</td>\n      <td>-48.2</td>\n    </tr>\n    <tr>\n      <th>2</th>\n      <td>2018</td>\n      <td>1</td>\n      <td>2</td>\n      <td>157.7</td>\n      <td>180.9</td>\n      <td>-23.2</td>\n    </tr>\n    <tr>\n      <th>3</th>\n      <td>2018</td>\n      <td>1</td>\n      <td>3</td>\n      <td>142.0</td>\n      <td>163.3</td>\n      <td>-21.3</td>\n    </tr>\n    <tr>\n      <th>4</th>\n      <td>2018</td>\n      <td>1</td>\n      <td>7</td>\n      <td>190.8</td>\n      <td>241.5</td>\n      <td>-50.7</td>\n    </tr>\n  </tbody>\n</table>\n</div>"
     },
     "metadata": {},
     "execution_count": 5
    }
   ],
   "source": [
    "together = actual.reset_index().merge(best.reset_index(), left_on=[\"year\", \"week\", \"team_id\"], right_on=[\"year\", \"week\", \"team_id\"])\n",
    "together[\"diff\"] = together[\"points\"] - together[\"best\"]\n",
    "together.head()"
   ]
  },
  {
   "cell_type": "code",
   "execution_count": 6,
   "metadata": {},
   "outputs": [],
   "source": [
    "together.to_csv(\"score_project_actual.csv\")"
   ]
  },
  {
   "cell_type": "code",
   "execution_count": 7,
   "metadata": {},
   "outputs": [
    {
     "output_type": "execute_result",
     "data": {
      "text/plain": [
       "                diff  scaled_diff\n",
       "year team_id                     \n",
       "2018 1       -1409.7    -2.356939\n",
       "     2        -454.3     0.581335\n",
       "     3        -321.4     0.990060\n",
       "     7        -362.9     0.862430\n",
       "     9        -546.5     0.297779\n",
       "     10      -1059.9    -1.281151\n",
       "     12       -362.3     0.864275\n",
       "     13       -547.7     0.294089\n",
       "     15       -842.1    -0.611320\n",
       "     16       -845.6    -0.622084\n",
       "     17       -658.4    -0.046362\n",
       "     18       -309.1     1.027888"
      ],
      "text/html": "<div>\n<style scoped>\n    .dataframe tbody tr th:only-of-type {\n        vertical-align: middle;\n    }\n\n    .dataframe tbody tr th {\n        vertical-align: top;\n    }\n\n    .dataframe thead th {\n        text-align: right;\n    }\n</style>\n<table border=\"1\" class=\"dataframe\">\n  <thead>\n    <tr style=\"text-align: right;\">\n      <th></th>\n      <th></th>\n      <th>diff</th>\n      <th>scaled_diff</th>\n    </tr>\n    <tr>\n      <th>year</th>\n      <th>team_id</th>\n      <th></th>\n      <th></th>\n    </tr>\n  </thead>\n  <tbody>\n    <tr>\n      <th rowspan=\"12\" valign=\"top\">2018</th>\n      <th>1</th>\n      <td>-1409.7</td>\n      <td>-2.356939</td>\n    </tr>\n    <tr>\n      <th>2</th>\n      <td>-454.3</td>\n      <td>0.581335</td>\n    </tr>\n    <tr>\n      <th>3</th>\n      <td>-321.4</td>\n      <td>0.990060</td>\n    </tr>\n    <tr>\n      <th>7</th>\n      <td>-362.9</td>\n      <td>0.862430</td>\n    </tr>\n    <tr>\n      <th>9</th>\n      <td>-546.5</td>\n      <td>0.297779</td>\n    </tr>\n    <tr>\n      <th>10</th>\n      <td>-1059.9</td>\n      <td>-1.281151</td>\n    </tr>\n    <tr>\n      <th>12</th>\n      <td>-362.3</td>\n      <td>0.864275</td>\n    </tr>\n    <tr>\n      <th>13</th>\n      <td>-547.7</td>\n      <td>0.294089</td>\n    </tr>\n    <tr>\n      <th>15</th>\n      <td>-842.1</td>\n      <td>-0.611320</td>\n    </tr>\n    <tr>\n      <th>16</th>\n      <td>-845.6</td>\n      <td>-0.622084</td>\n    </tr>\n    <tr>\n      <th>17</th>\n      <td>-658.4</td>\n      <td>-0.046362</td>\n    </tr>\n    <tr>\n      <th>18</th>\n      <td>-309.1</td>\n      <td>1.027888</td>\n    </tr>\n  </tbody>\n</table>\n</div>"
     },
     "metadata": {},
     "execution_count": 7
    }
   ],
   "source": [
    "scaler = StandardScaler()\n",
    "def zscore(group):\n",
    "    scaled = scaler.fit_transform(X=group[['diff']])\n",
    "    group[\"scaled_diff\"] = scaled\n",
    "    return group\n",
    "\n",
    "scores = together.groupby([\"year\", \"team_id\"]).agg( {'diff':sum })\n",
    "scores = scores.groupby([\"year\"]).apply(zscore)\n",
    "scores.head(12)"
   ]
  },
  {
   "cell_type": "code",
   "execution_count": 8,
   "metadata": {},
   "outputs": [],
   "source": [
    "scores.to_csv(\"scaled_points.csv\")"
   ]
  },
  {
   "cell_type": "code",
   "execution_count": null,
   "metadata": {},
   "outputs": [],
   "source": []
  }
 ]
}