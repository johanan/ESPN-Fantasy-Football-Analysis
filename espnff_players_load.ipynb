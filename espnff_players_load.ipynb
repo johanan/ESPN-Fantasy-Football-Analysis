{
 "metadata": {
  "language_info": {
   "codemirror_mode": {
    "name": "ipython",
    "version": 3
   },
   "file_extension": ".py",
   "mimetype": "text/x-python",
   "name": "python",
   "nbconvert_exporter": "python",
   "pygments_lexer": "ipython3",
   "version": "3.8.5-final"
  },
  "orig_nbformat": 2,
  "kernelspec": {
   "name": "python3",
   "display_name": "Python 3.8.5 64-bit ('espnff': conda)",
   "metadata": {
    "interpreter": {
     "hash": "725a7a549c8fe2c8b62f3d6e29d11a184353712ab997fd0ae6ae1a6b50d0eb6e"
    }
   }
  }
 },
 "nbformat": 4,
 "nbformat_minor": 2,
 "cells": [
  {
   "cell_type": "code",
   "execution_count": 1,
   "metadata": {},
   "outputs": [],
   "source": [
    "import os\n",
    "import requests\n",
    "import pandas as pd\n",
    "import json\n",
    "\n",
    "from dotenv import load_dotenv\n",
    "\n",
    "from functools import reduce, partial\n",
    "\n",
    "load_dotenv()\n",
    "league_id = os.getenv('league_id')\n",
    "url = partial(\"https://fantasy.espn.com/apis/v3/games/ffl/seasons/{year}/segments/0/leagues/{league_id}\".format, league_id=league_id)\n",
    "history_url = \"https://fantasy.espn.com/apis/v3/games/ffl/leagueHistory/{}\".format(league_id)\n",
    "cookies = {\n",
    "        \"swid\": os.getenv('swid'),\n",
    "        \"espn_s2\": os.getenv('espn_s2')\n",
    "    }\n"
   ]
  },
  {
   "cell_type": "code",
   "execution_count": 2,
   "metadata": {},
   "outputs": [],
   "source": [
    "teams = pd.read_csv(\"teams.csv\", usecols=[5,146])\n",
    "cur_teams = teams.loc[teams[\"year\"] == 2020]\n",
    "hist_teams = teams.loc[teams[\"year\"].isin([2018, 2019])]"
   ]
  },
  {
   "cell_type": "code",
   "execution_count": 3,
   "metadata": {},
   "outputs": [],
   "source": [
    "def flatmap(func, iter):\n",
    "    return reduce(list.__add__, map(func, iter))\n",
    "\n",
    "def unwrap(req):\n",
    "    return req.json()[0]\n",
    "\n",
    "def pass_through(req):\n",
    "    return req.json()\n"
   ]
  },
  {
   "cell_type": "code",
   "execution_count": 4,
   "metadata": {},
   "outputs": [],
   "source": [
    "def current_year_game(roster_key, scoringPeriodId, seasonId, load_url, func):\n",
    "    req = requests.get(load_url,\n",
    "    cookies=cookies,\n",
    "    params={\"view\": [\"mRoster\", \"mMatchup\", \"mMatchupScore\"], \"scoringPeriodId\": scoringPeriodId, \"seasonId\": seasonId})\n",
    "    schedule = func(req)[\"schedule\"]\n",
    "    find_roster = list(filter(lambda x: roster_key in x[\"away\"] or roster_key in x[\"home\"], schedule))\n",
    "    return find_roster\n",
    "\n",
    "def get_game_data(roster_key, game):\n",
    "    away_team_id = game[\"away\"][\"teamId\"]\n",
    "    scoringPeriodId = game[\"matchupPeriodId\"]\n",
    "    away_roster = list(map(lambda x: get_player_game_data(x, scoringPeriodId, away_team_id), game[\"away\"][roster_key][\"entries\"]))\n",
    "    home_team_id = game[\"home\"][\"teamId\"]\n",
    "    home_roster = list(map(lambda x: get_player_game_data(x, scoringPeriodId, home_team_id), game[\"home\"][roster_key][\"entries\"]))\n",
    "    return away_roster + home_roster\n",
    "\n",
    "def get_player_game_data(player, scoringPeriodId, teamId):\n",
    "    name = player['playerPoolEntry']['player']['fullName']\n",
    "    slotId = player['lineupSlotId']\n",
    "    injury = player['playerPoolEntry']['player']['injuryStatus'] if 'injuryStatus' in player['playerPoolEntry']['player'] else 'NA'\n",
    "    year = max([stat['seasonId'] for stat in player['playerPoolEntry']['player']['stats']] + [0])\n",
    "    actual = ([stat['appliedTotal'] for stat in player['playerPoolEntry']['player']['stats'] if stat['scoringPeriodId'] == scoringPeriodId and stat['statSourceId'] == 0] + [0.0])[0]\n",
    "    projected = ([stat['appliedTotal'] for stat in player['playerPoolEntry']['player']['stats'] if stat['scoringPeriodId'] == scoringPeriodId and stat['statSourceId'] == 1] + [0.0])[0]\n",
    "    slots = player['playerPoolEntry']['player']['eligibleSlots']\n",
    "    playerId = player['playerId']\n",
    "    return [name, slotId, scoringPeriodId, year, teamId, injury, actual, projected, slots, playerId]\n",
    "\n",
    "cur_game = partial(current_year_game, \"rosterForCurrentScoringPeriod\")\n",
    "hist_game = partial(current_year_game, \"rosterForMatchupPeriod\")\n",
    "\n",
    "cur_game_data = partial(get_game_data, \"rosterForCurrentScoringPeriod\")\n",
    "hist_game_data = partial(get_game_data, \"rosterForMatchupPeriod\")"
   ]
  },
  {
   "cell_type": "code",
   "execution_count": 5,
   "metadata": {},
   "outputs": [],
   "source": [
    "def get_all_periods(teamId, year):\n",
    "    return list(map(lambda x: (x, teamId, year), range(1,14)))\n",
    "\n",
    "def get_game_for_team(teamId, scoringPeriodId, seasonId, load_url, func):\n",
    "    req = requests.get(load_url,\n",
    "    cookies=cookies,\n",
    "    params={\"view\": \"mRoster\", \"scoringPeriodId\": scoringPeriodId, \"seasonId\": seasonId, \"forTeamId\": teamId})\n",
    "    roster = func(req)[\"teams\"][0][\"roster\"][\"entries\"]\n",
    "    return roster\n",
    "\n",
    "def get_player_data(player):\n",
    "    name = player['playerPoolEntry']['player']['fullName']\n",
    "    slotId = player['lineupSlotId']\n",
    "    score = player['playerPoolEntry']['appliedStatTotal']\n",
    "    slots = player['playerPoolEntry']['player']['eligibleSlots']\n",
    "    playerId = player['playerId']\n",
    "    year = max([stat['seasonId'] for stat in player['playerPoolEntry']['player']['stats']] + [0])\n",
    "    scoringPeriodId = max([stat['scoringPeriodId'] for stat in player['playerPoolEntry']['player']['stats']] + [0])\n",
    "    status = player['playerPoolEntry']['player']['injuryStatus'] if 'injuryStatus' in player['playerPoolEntry']['player'] else 'NA'\n",
    "    teamId = player['playerPoolEntry']['onTeamId']\n",
    "    return [name, slotId, scoringPeriodId, year, teamId, status, score, slots, playerId]\n",
    "    "
   ]
  },
  {
   "cell_type": "code",
   "execution_count": 6,
   "metadata": {},
   "outputs": [],
   "source": [
    "games = flatmap(lambda x: get_game_for_team(x[1], x[0], x[2], url(year=x[2]), pass_through) ,flatmap(lambda x: get_all_periods(x[0], x[1]), cur_teams.values))\n"
   ]
  },
  {
   "cell_type": "code",
   "execution_count": 7,
   "metadata": {},
   "outputs": [],
   "source": [
    "players = list(map(get_player_data, games))\n",
    "cur_players_df = pd.DataFrame(players, columns=['name', 'position_id', 'week', 'year', 'team_id', 'status', 'points', 'slots', 'player_id'])"
   ]
  },
  {
   "cell_type": "code",
   "execution_count": 8,
   "metadata": {},
   "outputs": [],
   "source": [
    "cur_players_df.to_csv(\"players_2020.csv\")"
   ]
  },
  {
   "cell_type": "code",
   "execution_count": 9,
   "metadata": {},
   "outputs": [],
   "source": [
    "hist_games = flatmap(lambda x: get_game_for_team(x[1], x[0], x[2], history_url, unwrap) ,flatmap(lambda x: get_all_periods(x[0], x[1]), hist_teams.values))"
   ]
  },
  {
   "cell_type": "code",
   "execution_count": 10,
   "metadata": {},
   "outputs": [],
   "source": [
    "hist_players = list(map(get_player_data, hist_games))\n",
    "hist_players_df = pd.DataFrame(hist_players, columns=['name', 'position_id', 'week', 'year', 'team_id', 'status', 'points', 'slots', 'player_id'])"
   ]
  },
  {
   "cell_type": "code",
   "execution_count": 11,
   "metadata": {},
   "outputs": [
    {
     "output_type": "execute_result",
     "data": {
      "text/plain": [
       "             name  position_id  week  year  team_id          status  points  \\\n",
       "0  Todd Gurley II           20     1  2018        1          ACTIVE    28.7   \n",
       "1  Michael Thomas            4     1  2018        1          ACTIVE    40.0   \n",
       "2      Jared Goff            0     1  2018        1          ACTIVE    17.9   \n",
       "3   George Kittle            6     1  2018        1          ACTIVE    14.0   \n",
       "4     Matt Breida           20     1  2018        1  INJURY_RESERVE     8.1   \n",
       "\n",
       "                      slots  player_id  \n",
       "0     [2, 3, 7, 20, 21, 23]    2977644  \n",
       "1  [3, 4, 5, 7, 20, 21, 23]    2976316  \n",
       "2            [0, 7, 20, 21]    3046779  \n",
       "3     [5, 6, 7, 20, 21, 23]    3040151  \n",
       "4     [2, 3, 7, 20, 21, 23]    3049916  "
      ],
      "text/html": "<div>\n<style scoped>\n    .dataframe tbody tr th:only-of-type {\n        vertical-align: middle;\n    }\n\n    .dataframe tbody tr th {\n        vertical-align: top;\n    }\n\n    .dataframe thead th {\n        text-align: right;\n    }\n</style>\n<table border=\"1\" class=\"dataframe\">\n  <thead>\n    <tr style=\"text-align: right;\">\n      <th></th>\n      <th>name</th>\n      <th>position_id</th>\n      <th>week</th>\n      <th>year</th>\n      <th>team_id</th>\n      <th>status</th>\n      <th>points</th>\n      <th>slots</th>\n      <th>player_id</th>\n    </tr>\n  </thead>\n  <tbody>\n    <tr>\n      <th>0</th>\n      <td>Todd Gurley II</td>\n      <td>20</td>\n      <td>1</td>\n      <td>2018</td>\n      <td>1</td>\n      <td>ACTIVE</td>\n      <td>28.7</td>\n      <td>[2, 3, 7, 20, 21, 23]</td>\n      <td>2977644</td>\n    </tr>\n    <tr>\n      <th>1</th>\n      <td>Michael Thomas</td>\n      <td>4</td>\n      <td>1</td>\n      <td>2018</td>\n      <td>1</td>\n      <td>ACTIVE</td>\n      <td>40.0</td>\n      <td>[3, 4, 5, 7, 20, 21, 23]</td>\n      <td>2976316</td>\n    </tr>\n    <tr>\n      <th>2</th>\n      <td>Jared Goff</td>\n      <td>0</td>\n      <td>1</td>\n      <td>2018</td>\n      <td>1</td>\n      <td>ACTIVE</td>\n      <td>17.9</td>\n      <td>[0, 7, 20, 21]</td>\n      <td>3046779</td>\n    </tr>\n    <tr>\n      <th>3</th>\n      <td>George Kittle</td>\n      <td>6</td>\n      <td>1</td>\n      <td>2018</td>\n      <td>1</td>\n      <td>ACTIVE</td>\n      <td>14.0</td>\n      <td>[5, 6, 7, 20, 21, 23]</td>\n      <td>3040151</td>\n    </tr>\n    <tr>\n      <th>4</th>\n      <td>Matt Breida</td>\n      <td>20</td>\n      <td>1</td>\n      <td>2018</td>\n      <td>1</td>\n      <td>INJURY_RESERVE</td>\n      <td>8.1</td>\n      <td>[2, 3, 7, 20, 21, 23]</td>\n      <td>3049916</td>\n    </tr>\n  </tbody>\n</table>\n</div>"
     },
     "metadata": {},
     "execution_count": 11
    }
   ],
   "source": [
    "hist_players_df.head()"
   ]
  },
  {
   "cell_type": "code",
   "execution_count": 12,
   "metadata": {},
   "outputs": [],
   "source": [
    "for y in hist_players_df[\"year\"].unique():\n",
    "    hist_players_df.loc[hist_players_df[\"year\"] == y].to_csv(\"players_{}.csv\".format(y))"
   ]
  },
  {
   "cell_type": "code",
   "execution_count": null,
   "metadata": {},
   "outputs": [],
   "source": []
  }
 ]
}